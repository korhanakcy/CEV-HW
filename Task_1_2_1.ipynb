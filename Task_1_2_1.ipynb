{
  "nbformat": 4,
  "nbformat_minor": 0,
  "metadata": {
    "colab": {
      "provenance": [],
      "collapsed_sections": []
    },
    "kernelspec": {
      "name": "python3",
      "display_name": "Python 3"
    },
    "language_info": {
      "name": "python"
    }
  },
  "cells": [
    {
      "cell_type": "markdown",
      "source": [
        "Task 1.2.1: Prime number function: use while instead of for."
      ],
      "metadata": {
        "id": "meRES6V6N4dw"
      }
    },
    {
      "cell_type": "code",
      "source": [
        "def is_prime (num):\n",
        "  if (num<2):\n",
        "    return 'Invalid Input, Try another number!'\n",
        "  elif (num==2):\n",
        "    return True\n",
        "  elif(num%2 == 0):\n",
        "    return False\n",
        "  i = 3\n",
        "  while i < int(num/2):\n",
        "    #print(i)\n",
        "    if (num%i == 0):\n",
        "      return False\n",
        "    else:\n",
        "      i = i + 2\n",
        "  return True\n",
        "\n",
        "print(is_prime(0))\n",
        "print(is_prime(11))\n",
        "print(is_prime(21))\n",
        "print(is_prime(-2))\n",
        "print(is_prime(33))\n",
        "print(is_prime(41))\n",
        "print(is_prime(51))"
      ],
      "metadata": {
        "colab": {
          "base_uri": "https://localhost:8080/"
        },
        "id": "eZz1fSwbHzTT",
        "outputId": "0cc2d1f9-b3e0-4659-fe32-5ccea0f25c6a"
      },
      "execution_count": 39,
      "outputs": [
        {
          "output_type": "stream",
          "name": "stdout",
          "text": [
            "Invalid Input, Try another number!\n",
            "True\n",
            "False\n",
            "Invalid Input, Try another number!\n",
            "False\n",
            "True\n",
            "False\n"
          ]
        }
      ]
    }
  ]
}
