{
  "nbformat": 4,
  "nbformat_minor": 0,
  "metadata": {
    "colab": {
      "provenance": []
    },
    "kernelspec": {
      "name": "python3",
      "display_name": "Python 3"
    },
    "language_info": {
      "name": "python"
    }
  },
  "cells": [
    {
      "cell_type": "markdown",
      "source": [
        "1) 1 zar var. 10.000 atışta olasılıkları\n",
        "\n",
        "\n",
        "\n"
      ],
      "metadata": {
        "id": "Ie2pSDSUyW8e"
      }
    },
    {
      "cell_type": "code",
      "source": [
        "import random\n",
        "import matplotlib.pyplot as plt\n",
        "import numpy as np\n",
        "import math\n",
        "import statistics\n",
        "import scipy.stats as stats\n",
        "\n",
        "def dice():\n",
        "    return random.randint(1,6)\n",
        "    \n",
        "def dice10000():\n",
        "    return [dice() for i in range(10000)]\n",
        "    \n",
        "def dice10000count():\n",
        "    return [dice10000().count(i) for i in range(1,7)]\n",
        "    \n",
        "def dice10000countprob():\n",
        "    return [i/10000 for i in dice10000count()]\n",
        "    \n",
        "plt.bar([i for i in range(1,7)],dice10000countprob())\n",
        "plt.show()\n",
        "    \n",
        "\n"
      ],
      "metadata": {
        "colab": {
          "base_uri": "https://localhost:8080/",
          "height": 265
        },
        "id": "8YD_8MHv5N_E",
        "outputId": "6fc3820f-f3c9-4bee-b547-f504c769014a"
      },
      "execution_count": null,
      "outputs": [
        {
          "output_type": "display_data",
          "data": {
            "text/plain": [
              "<Figure size 432x288 with 1 Axes>"
            ],
            "image/png": "[encoded data removed]"
          },
          "metadata": {
            "needs_background": "light"
          }
        }
      ]
    },
    {
      "cell_type": "markdown",
      "source": [
        "\n",
        "2) Hamburger, Pizza, Lahmacun \n",
        "365 günlük yemek yeme grafiği\n",
        "\n",
        "MC olasılıkları \n",
        "H-H, H-P, H-L"
      ],
      "metadata": {
        "id": "lU4MXE7y9hdw"
      }
    },
    {
      "cell_type": "code",
      "source": [
        "import random\n",
        "\n",
        "yemekler = [\"Hamburger\",\"Pizza\",\"Lahmacun\"]\n",
        "yemek = [0,0,0]\n",
        "\n",
        "for i in range(365):\n",
        "    x = random.random()\n",
        "    if x < 1/3:\n",
        "        yemek[0] += 1\n",
        "    elif x < 2/3:\n",
        "        yemek[1] += 1\n",
        "    else:\n",
        "        yemek[2] += 1\n",
        "\n",
        "print(\"Hamburger gelme olasılığı: \",yemek[0]/365)\n",
        "print(\"Pizza gelme olasılığı: \",yemek[1]/365)\n",
        "print(\"Lahmacun gelme olasılığı: \",yemek[2]/365)\n",
        "\n",
        "\n",
        "print(\"Hamburgerden sonra pizza gelme olasılığı: \",yemek[1]/(365-yemek[0]))\n",
        "print(\"Hamburgerden sonra lahmacun gelme olasılığı: \",yemek[2]/(365-yemek[0]))\n",
        "print(\"Toplam: \",yemek[1]/(365-yemek[0])+yemek[2]/(365-yemek[0]))\n",
        "\n",
        "\n",
        "print(\"Pizzadan sonra lahmacun gelme olasılığı: \",yemek[2]/(365-yemek[1]))\n",
        "print(\"Pizzadan sonra hamburger gelme olasılığı: \",yemek[0]/(365-yemek[1]))\n",
        "print(\"Toplam: \",yemek[2]/(365-yemek[1])+yemek[0]/(365-yemek[1]))\n",
        "\n",
        "\n",
        "print(\"Lahmacundan sonra hamburger gelme olasılığı: \",yemek[0]/(365-yemek[2]))\n",
        "print(\"Lahmacundan sonra pizza gelme olasılığı: \",yemek[1]/(365-yemek[2]))\n",
        "print(\"Toplam: \",yemek[0]/(365-yemek[2])+yemek[1]/(365-yemek[2]))"
      ],
      "metadata": {
        "id": "5hq_H9Uh0eO3"
      },
      "execution_count": null,
      "outputs": []
    },
    {
      "cell_type": "markdown",
      "source": [
        "\n",
        "3) 2 yıllık altın fiyatı oluşturunuz rastgele\n",
        "MC ile artış, azalışi sabit kalma 3 durum. \n"
      ],
      "metadata": {
        "id": "mhQNCaAs9jdG"
      }
    },
    {
      "cell_type": "code",
      "source": [],
      "metadata": {
        "id": "WH3du4Av5icV"
      },
      "execution_count": null,
      "outputs": []
    }
  ]
}