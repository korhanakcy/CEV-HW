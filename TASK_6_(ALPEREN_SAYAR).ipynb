{
  "nbformat": 4,
  "nbformat_minor": 0,
  "metadata": {
    "colab": {
      "provenance": []
    },
    "kernelspec": {
      "name": "python3",
      "display_name": "Python 3"
    },
    "language_info": {
      "name": "python"
    }
  },
  "cells": [
    {
      "cell_type": "markdown",
      "source": [
        "    1)Json-Dictionary arasındaki fark nedir?\n",
        "\n",
        "Dictionary Pyhton'a özel bir veri yapısıdır fakat Json ise platform ve dilden bağımsız bir biçimde sistemler arası veriyi aktarmanın bir yoludur. Json veri yapısı özelliğinden yoksun saf bir dizedir ancak dictionary karma nesneler içerebilir. Python’da dictionary’de tek tırnak kullanılırken, Json’da çift tırnak kullanılır. Json’da keyler tekrarlanabilirken, dictionary’de tekrarlanamaz. Dictionary'de nesne döndürülürken, json 'da string döndürülür.\n",
        "\n",
        "\n"
      ],
      "metadata": {
        "id": "wXWmGJq3Jv4Q"
      }
    },
    {
      "cell_type": "markdown",
      "source": [
        "    1.1) Dumps ne işe yarar?\n",
        "\n",
        "Python verisini json’a dönüştürür.\n",
        "\n",
        "\n",
        "\n",
        "\n",
        "\n",
        "\n"
      ],
      "metadata": {
        "id": "5fRD82lsJv1s"
      }
    },
    {
      "cell_type": "markdown",
      "source": [
        "    1.2) Neden encode kullanılır?\n",
        "\n",
        "UTF-8’e kıyasla bakıldığı zaman daha kolay depolar ve  az zamanda yapar \n"
      ],
      "metadata": {
        "id": "IRFnCUhHJvyf"
      }
    },
    {
      "cell_type": "markdown",
      "source": [
        "    2) json dumps nedir?\n",
        "\n",
        "Python verisini Jsona dönüştürmek için kullanılır.\n"
      ],
      "metadata": {
        "id": "AQ2uRediJvqS"
      }
    },
    {
      "cell_type": "markdown",
      "source": [
        "    2.1) json load nedir?\n",
        "\n",
        "Sadece JSON dosyasındaki verileri Python verisine çevirir. Veriyi parametre olarak almaz.\n"
      ],
      "metadata": {
        "id": "e9-i9NgZJvnh"
      }
    },
    {
      "cell_type": "markdown",
      "source": [
        "    2.2) json loads nedir?\n",
        "\n",
        "Bir JSON verisini Python’da dict türü bir nesneye dönüştürmek için kullanılır. Veriyi parametre olarak alır.\n"
      ],
      "metadata": {
        "id": "oIYeJug_JvlE"
      }
    },
    {
      "cell_type": "markdown",
      "source": [
        "    3) Dockera girdikten sonra spesific bir container hangi networkta çalışır?\n",
        "\n",
        "Bridge Network’de çalışır.\n"
      ],
      "metadata": {
        "id": "een5SikzJvii"
      }
    },
    {
      "cell_type": "markdown",
      "source": [
        "    3.2) default ip nasıl bulunur?\n",
        "\n",
        "docker inspect -f “{{range.NetworkSettings.Networks}}{{.IPAddress}}{{end}}” ContainerID\n"
      ],
      "metadata": {
        "id": "GxReaCvVJvfj"
      }
    },
    {
      "cell_type": "markdown",
      "source": [
        "    4) Kod json.dumps değil de json.dump ile deneyerek yazılacak.\n",
        "producer.send( OREDER_KAFKA_TOPİC, with open(\"sample.json\", \"w\") as outfile: json.dump(data, outfile) f = open(\"demofile.txt\", \"r\") f.read() )\n"
      ],
      "metadata": {
        "id": "llVzoFX4JvX4"
      }
    },
    {
      "cell_type": "markdown",
      "source": [
        "    5) Neden UTF-8 kullanıyoruz?\n",
        "Geriye dönük uyumlu, tek veya çok boyutlu karakterler arasında ayrım yapabilen. Değişken kod uzunluğu, kendini eş zamanlama gibi özelliklere sahiptir. Tüm dünya alfabelerini kapsayan on binlerce karakter söz konusudur. Ayrıca dünya dillerinin çoğunu kapsıyor oluması kullanımını etkiliyor.\n"
      ],
      "metadata": {
        "id": "Mu4gFGy7Kj7e"
      }
    },
    {
      "cell_type": "markdown",
      "source": [
        "    6) 192.168.0.1 nedir ve 127.00.01 arasındaki fark nedir?\n",
        "192.168.0.1: Modem IP adresi, ülkemizde sıklıkla kullanılan yerel IP adreslerinden biridir. Kablosuz yönlendiricimize erişebilir ve bunları bu adres üzerinden yapılandırabiliriz. \n",
        "127.0.0.1: Bilgisayarın sahip olduğu yerel IP adresi yani bir diğer deyişle Localhost adresidir ve evrenseldir\n"
      ],
      "metadata": {
        "id": "p8ZEu5rnKkXg"
      }
    }
  ]
}