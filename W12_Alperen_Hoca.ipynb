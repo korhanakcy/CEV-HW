{
  "nbformat": 4,
  "nbformat_minor": 0,
  "metadata": {
    "colab": {
      "provenance": []
    },
    "kernelspec": {
      "name": "python3",
      "display_name": "Python 3"
    },
    "language_info": {
      "name": "python"
    }
  },
  "cells": [
    {
      "cell_type": "markdown",
      "source": [
        "1 - Gradient Descent algortimasını kullanarak x^2+2*x+1 fonksiyonu için global minumum noktasını bulunuz."
      ],
      "metadata": {
        "id": "T8mlBs1Hri0q"
      }
    },
    {
      "cell_type": "code",
      "source": [
        "import numpy as np\n",
        "import matplotlib.pyplot as plt"
      ],
      "metadata": {
        "id": "1HtZt0wctbrk"
      },
      "execution_count": 9,
      "outputs": []
    },
    {
      "cell_type": "code",
      "source": [
        "x = np.linspace(-100, 100, 100)\n",
        "y = x**2+2*x+1\n",
        "\n",
        "# Create the plot\n",
        "plt.plot(x, y)\n",
        " \n",
        "# Show the plot\n",
        "plt.show()"
      ],
      "metadata": {
        "colab": {
          "base_uri": "https://localhost:8080/",
          "height": 265
        },
        "id": "TxF7Rf265IWm",
        "outputId": "4c67c746-dd98-4fd3-9819-6f5ded1b53cd"
      },
      "execution_count": 15,
      "outputs": [
        {
          "output_type": "display_data",
          "data": {
            "text/plain": [
              "<Figure size 432x288 with 1 Axes>"
            ],
            "image/png": "[encoded data removed]"
          },
          "metadata": {
            "needs_background": "light"
          }
        }
      ]
    },
    {
      "cell_type": "code",
      "source": [
        "x_cur = 1 \n",
        "learning_rate = 0.01 \n",
        "precision = 0.0000000001 #algorithm stop point\n",
        "previous_step_size = 1 \n",
        "max_iters = 10000000 #maximum number of iterations\n",
        "iters = 0 #iteration counter\n",
        "equation = lambda x: 2*(x)+2"
      ],
      "metadata": {
        "id": "n0iJrF-t7ar6"
      },
      "execution_count": 117,
      "outputs": []
    },
    {
      "cell_type": "code",
      "source": [
        "while previous_step_size > precision and iters < max_iters:\n",
        "    x_prev = x_cur #Store current x value in prev_x\n",
        "    x_cur = x_cur - learning_rate * equation(x_prev) #Grad descent\n",
        "    previous_step_size = abs(x_cur - x_prev) #Change in x\n",
        "    iters = iters+1 #iteration count\n",
        "    \n",
        "print(\"The local minimum point:\", x_cur)\n",
        "     "
      ],
      "metadata": {
        "colab": {
          "base_uri": "https://localhost:8080/"
        },
        "id": "DCk7wbIy7cZ2",
        "outputId": "6fd26f3f-b46c-4e15-ea7a-6bf8745a2404"
      },
      "execution_count": 85,
      "outputs": [
        {
          "output_type": "stream",
          "name": "stdout",
          "text": [
            "The local minimum point: -0.9999999951578715\n"
          ]
        }
      ]
    },
    {
      "cell_type": "markdown",
      "source": [
        "2 - \n",
        "Learning rate parametresini 0.001, 0.01,0.0001,0.1 olarak deneyerek sonuçlarını karşılaştırınız. Not: GD algoritmasını kendiniz yazınız. Hint: Fonksiyonun sonuçta bir yerde durması gerekiyor. Bunu kullanmayı unutmayız. Örnek olarak iki değer arasındaki fark şundan küçükse gibi.\n"
      ],
      "metadata": {
        "id": "IvRkY-fYrl1N"
      }
    },
    {
      "cell_type": "code",
      "source": [
        "x_cur = 1 \n",
        "precision = 0.0000000001 \n",
        "previous_step_size = 1 \n",
        "max_iters = 10000000 \n",
        "iters = 0\n",
        "\n",
        "learning_rate = 0.001\n",
        "while previous_step_size > precision and iters < max_iters:\n",
        "    x_prev = x_cur\n",
        "    x_cur = x_cur - learning_rate * equation(x_prev) \n",
        "    previous_step_size = abs(x_cur - x_prev) \n",
        "    iters = iters+1 \n",
        "print(\"The local minimum point:\", x_cur)"
      ],
      "metadata": {
        "colab": {
          "base_uri": "https://localhost:8080/"
        },
        "id": "fNDGrA0jruT9",
        "outputId": "86667132-2523-4df5-ea32-8bafa52e5a55"
      },
      "execution_count": 121,
      "outputs": [
        {
          "output_type": "stream",
          "name": "stdout",
          "text": [
            "The local minimum point: -0.9999999501559238\n"
          ]
        }
      ]
    },
    {
      "cell_type": "code",
      "source": [
        "x_cur = 1 \n",
        "precision = 0.0000000001 \n",
        "previous_step_size = 1 \n",
        "max_iters = 10000000 \n",
        "iters = 0\n",
        "\n",
        "learning_rate = 0.01\n",
        "while previous_step_size > precision and iters < max_iters:\n",
        "    x_prev = x_cur \n",
        "    x_cur = x_cur - learning_rate * equation(x_prev) \n",
        "    previous_step_size = abs(x_cur - x_prev) \n",
        "    iters = iters+1 \n",
        "print(\"The local minimum point:\", x_cur)"
      ],
      "metadata": {
        "colab": {
          "base_uri": "https://localhost:8080/"
        },
        "id": "kcBtGM0dHJvs",
        "outputId": "f464601f-9e61-4e1b-c682-15b6a7ffdbfa"
      },
      "execution_count": 123,
      "outputs": [
        {
          "output_type": "stream",
          "name": "stdout",
          "text": [
            "The local minimum point: -0.9999999951578715\n"
          ]
        }
      ]
    },
    {
      "cell_type": "code",
      "source": [
        "x_cur = 1 \n",
        "precision = 0.0000000001 \n",
        "previous_step_size = 1 \n",
        "max_iters = 10000000 \n",
        "iters = 0\n",
        "\n",
        "learning_rate = 0.0001\n",
        "while previous_step_size > precision and iters < max_iters:\n",
        "    x_prev = x_cur \n",
        "    x_cur = x_cur - learning_rate * equation(x_prev) \n",
        "    previous_step_size = abs(x_cur - x_prev) \n",
        "    iters = iters+1 \n",
        "print(\"The local minimum point:\", x_cur)"
      ],
      "metadata": {
        "colab": {
          "base_uri": "https://localhost:8080/"
        },
        "outputId": "8a6281fb-5416-498d-b760-216e7fc08280",
        "id": "sEXc5HUlHWY2"
      },
      "execution_count": 124,
      "outputs": [
        {
          "output_type": "stream",
          "name": "stdout",
          "text": [
            "The local minimum point: -0.9999995001576453\n"
          ]
        }
      ]
    },
    {
      "cell_type": "code",
      "source": [
        "x_cur = 1 \n",
        "precision = 0.0000000001 \n",
        "previous_step_size = 1 \n",
        "max_iters = 10000000 \n",
        "iters = 0\n",
        "\n",
        "learning_rate = 0.1 \n",
        "while previous_step_size > precision and iters < max_iters:\n",
        "    x_prev = x_cur \n",
        "    x_cur = x_cur - learning_rate * equation(x_prev) \n",
        "    previous_step_size = abs(x_cur - x_prev) \n",
        "    iters = iters+1 \n",
        "print(\"The local minimum point:\", x_cur)"
      ],
      "metadata": {
        "colab": {
          "base_uri": "https://localhost:8080/"
        },
        "id": "lpm5KwLUBpBB",
        "outputId": "dafbee3e-ad53-4566-d5c8-ef0c0b45971c"
      },
      "execution_count": 125,
      "outputs": [
        {
          "output_type": "stream",
          "name": "stdout",
          "text": [
            "The local minimum point: -0.9999999996740743\n"
          ]
        }
      ]
    }
  ]
}