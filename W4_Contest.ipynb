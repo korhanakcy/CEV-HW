{
  "nbformat": 4,
  "nbformat_minor": 0,
  "metadata": {
    "colab": {
      "provenance": []
    },
    "kernelspec": {
      "name": "python3",
      "display_name": "Python 3"
    },
    "language_info": {
      "name": "python"
    }
  },
  "cells": [
    {
      "cell_type": "markdown",
      "source": [
        "In groups of 2 students, please try to develop a statistically valid predictor of CDRGLOB via using feature engineering. This means you need to work on the numeric values of the features (variables/columns) by performing multiplications and/or division operations. One such instance is BMI in which we divide weight by height square to get a good indicator of health (skinny, normal, obese, very obese etc). Thus, you should provide a mathematical formula and you should provide arguments and statistical analyses for the validation of your formula."
      ],
      "metadata": {
        "id": "QwNHcrZdVFDP"
      }
    },
    {
      "cell_type": "code",
      "execution_count": 2,
      "metadata": {
        "id": "me0D0zDlSZLX"
      },
      "outputs": [],
      "source": [
        "import pandas as pd\n",
        "import numpy as np\n",
        "import matplotlib.pyplot as plt"
      ]
    },
    {
      "cell_type": "markdown",
      "source": [
        "Verimizi ekliyoruz."
      ],
      "metadata": {
        "id": "REGiCrbrTChT"
      }
    },
    {
      "cell_type": "code",
      "source": [
        "data = pd.read_excel(\"Temporary_data3_-_Copy.xlsx\")"
      ],
      "metadata": {
        "id": "i0TGywclSbNI"
      },
      "execution_count": 3,
      "outputs": []
    },
    {
      "cell_type": "markdown",
      "source": [
        "Seçtiğimiz değişkenlerin özet bilgilerine bakıyoruz."
      ],
      "metadata": {
        "id": "1hFYMRqUTF15"
      }
    },
    {
      "cell_type": "code",
      "source": [
        "data[\"CDRGLOB\"].describe()"
      ],
      "metadata": {
        "colab": {
          "base_uri": "https://localhost:8080/"
        },
        "id": "ELyZF4uGSktp",
        "outputId": "ebd1b0b6-e515-4474-a662-5a8a28702a5e"
      },
      "execution_count": 4,
      "outputs": [
        {
          "output_type": "execute_result",
          "data": {
            "text/plain": [
              "count    1354.000000\n",
              "mean        0.714180\n",
              "std         0.810312\n",
              "min         0.000000\n",
              "25%         0.000000\n",
              "50%         1.000000\n",
              "75%         1.000000\n",
              "max         3.000000\n",
              "Name: CDRGLOB, dtype: float64"
            ]
          },
          "metadata": {},
          "execution_count": 4
        }
      ]
    },
    {
      "cell_type": "code",
      "source": [
        "data[\"CSFVOL\"].describe()"
      ],
      "metadata": {
        "colab": {
          "base_uri": "https://localhost:8080/"
        },
        "id": "zEgWcUjbSjUn",
        "outputId": "8a3b1b42-8000-47f0-c353-6970c3eaa849"
      },
      "execution_count": 5,
      "outputs": [
        {
          "output_type": "execute_result",
          "data": {
            "text/plain": [
              "count    1354.000000\n",
              "mean      347.508383\n",
              "std        65.539795\n",
              "min       203.864000\n",
              "25%       296.989000\n",
              "50%       341.468000\n",
              "75%       390.865250\n",
              "max       611.790000\n",
              "Name: CSFVOL, dtype: float64"
            ]
          },
          "metadata": {},
          "execution_count": 5
        }
      ]
    },
    {
      "cell_type": "markdown",
      "source": [
        "x_bar = CDRGLOB'un ortalaması \\\\\n",
        "y_bar = CSFVOL'un ortalaması"
      ],
      "metadata": {
        "id": "FtgqUGsyTL4O"
      }
    },
    {
      "cell_type": "code",
      "source": [
        "rcdr = data[\"CDRGLOB\"]\n",
        "yi = data[\"CSFVOL\"]\n",
        "y_bar = 347.5\n",
        "x_bar = 0.714180"
      ],
      "metadata": {
        "id": "JmyCmzt8Smve"
      },
      "execution_count": 6,
      "outputs": []
    },
    {
      "cell_type": "code",
      "source": [
        "x_i = []"
      ],
      "metadata": {
        "id": "qxrCMVunSmx4"
      },
      "execution_count": 7,
      "outputs": []
    },
    {
      "cell_type": "markdown",
      "source": [
        "Aralarındaki korelasyon 0,37 olduğunu biliyoruz. Verilen değerleri formüle yazdığımızda x'leri y lerden oluşturabileceğimiz bir formül oluşturuyoruz."
      ],
      "metadata": {
        "id": "f_Hvw0olTZEx"
      }
    },
    {
      "cell_type": "code",
      "source": [
        "for i in range(1354):\n",
        "  y_i = data[\"CSFVOL\"].iloc[i]\n",
        "  x_i = (53.1077)/(yi-347.5)+0.7142"
      ],
      "metadata": {
        "id": "uc2vx64PSm0W"
      },
      "execution_count": 8,
      "outputs": []
    },
    {
      "cell_type": "code",
      "source": [
        "x_i"
      ],
      "metadata": {
        "colab": {
          "base_uri": "https://localhost:8080/"
        },
        "id": "FQvsBUh6Sm3C",
        "outputId": "31f27c5c-18a3-46ef-dc1d-9e00a7054aea"
      },
      "execution_count": 9,
      "outputs": [
        {
          "output_type": "execute_result",
          "data": {
            "text/plain": [
              "0      -0.069307\n",
              "1       1.152238\n",
              "2       0.059277\n",
              "3       2.524278\n",
              "4       1.143777\n",
              "          ...   \n",
              "1349   -2.303969\n",
              "1350    1.020078\n",
              "1351    2.752101\n",
              "1352    1.908437\n",
              "1353   -0.067370\n",
              "Name: CSFVOL, Length: 1354, dtype: float64"
            ]
          },
          "metadata": {},
          "execution_count": 9
        }
      ]
    },
    {
      "cell_type": "markdown",
      "source": [
        "Float olan verileri yuvarlamak için bir fonksiyon oluşturuyoruz."
      ],
      "metadata": {
        "id": "8AJkkQOUTpw1"
      }
    },
    {
      "cell_type": "code",
      "source": [
        "def yuvarlama(sayi):\n",
        "  if sayi < 0: \n",
        "    return 0\n",
        "  elif 0.5<=sayi<=1:\n",
        "    return 1\n",
        "  elif 1.5 <= sayi <= 2:\n",
        "    return 2 \n",
        "  elif 2.5 <= sayi <=3:\n",
        "    return 3 \n",
        "  elif 3.5 <= sayi <= 4:\n",
        "    return 4\n",
        "  elif sayi > 4:\n",
        "    return 4\n",
        "  else:\n",
        "    return round(sayi)"
      ],
      "metadata": {
        "id": "oeZfDIJiSm5f"
      },
      "execution_count": 10,
      "outputs": []
    },
    {
      "cell_type": "markdown",
      "source": [
        "İndexlerden kurtulmak için böyle bir kod yazdık."
      ],
      "metadata": {
        "id": "AvpR9vFFUDx_"
      }
    },
    {
      "cell_type": "code",
      "source": [
        "a = []\n",
        "b = []\n",
        "c = []\n",
        "d = []\n",
        "e = []\n",
        "for i in range(1354):\n",
        "  c = x_i.iloc[i]\n",
        "  a.append(c)"
      ],
      "metadata": {
        "id": "-w9RpCZMSm8H"
      },
      "execution_count": 11,
      "outputs": []
    },
    {
      "cell_type": "markdown",
      "source": [
        "Yuvarlanmış hallerini görmemiz için bir değişken oluşturduk."
      ],
      "metadata": {
        "id": "lOqpjYPqUIre"
      }
    },
    {
      "cell_type": "code",
      "source": [
        "for i in range(1354):\n",
        "  b = (yuvarlama(a[i]))\n",
        "  d.append(b)"
      ],
      "metadata": {
        "id": "4Ztte-uYSm-d"
      },
      "execution_count": 12,
      "outputs": []
    },
    {
      "cell_type": "markdown",
      "source": [
        "gerçek veriyle bizim tahmin ettiğimiz verinin kıyaslaması (0 'a yanlış, 1 ' e doğru tahmin değerleri) "
      ],
      "metadata": {
        "id": "FxRkXiscUQjD"
      }
    },
    {
      "cell_type": "code",
      "source": [
        "  for i in range(1354):\n",
        "    if rcdr[i] == d[i]:\n",
        "       e.append(1)\n",
        "    else: \n",
        "       e.append(0)"
      ],
      "metadata": {
        "id": "CE_OskL6SnAy"
      },
      "execution_count": 13,
      "outputs": []
    },
    {
      "cell_type": "code",
      "source": [
        "e.count(0)"
      ],
      "metadata": {
        "colab": {
          "base_uri": "https://localhost:8080/"
        },
        "id": "KyfK2SCFSy7J",
        "outputId": "65fe1435-f83f-44a9-8fe1-2352f0d8ab20"
      },
      "execution_count": 14,
      "outputs": [
        {
          "output_type": "execute_result",
          "data": {
            "text/plain": [
              "806"
            ]
          },
          "metadata": {},
          "execution_count": 14
        }
      ]
    },
    {
      "cell_type": "code",
      "source": [
        "e.count(1)"
      ],
      "metadata": {
        "colab": {
          "base_uri": "https://localhost:8080/"
        },
        "id": "WedJ4665Sy_O",
        "outputId": "fb2e1a2e-49b5-4e3c-ab53-d9e9335951e8"
      },
      "execution_count": 15,
      "outputs": [
        {
          "output_type": "execute_result",
          "data": {
            "text/plain": [
              "548"
            ]
          },
          "metadata": {},
          "execution_count": 15
        }
      ]
    },
    {
      "cell_type": "markdown",
      "source": [
        "% kaç doğru tahmin ettik."
      ],
      "metadata": {
        "id": "NvRF_9j_Uk4O"
      }
    },
    {
      "cell_type": "code",
      "source": [
        "e.count(1)/len(e)"
      ],
      "metadata": {
        "colab": {
          "base_uri": "https://localhost:8080/"
        },
        "id": "BUCOZMjuSzB7",
        "outputId": "0a1f9eaf-6af8-40ac-a1da-dcdad8166073"
      },
      "execution_count": 16,
      "outputs": [
        {
          "output_type": "execute_result",
          "data": {
            "text/plain": [
              "0.40472673559822747"
            ]
          },
          "metadata": {},
          "execution_count": 16
        }
      ]
    }
  ]
}