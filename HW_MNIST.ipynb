{
  "nbformat": 4,
  "nbformat_minor": 0,
  "metadata": {
    "colab": {
      "provenance": []
    },
    "kernelspec": {
      "name": "python3",
      "display_name": "Python 3"
    },
    "language_info": {
      "name": "python"
    },
    "accelerator": "GPU",
    "gpuClass": "standard"
  },
  "cells": [
    {
      "cell_type": "markdown",
      "source": [
        "Minst handwritten datasını kullanarak bir adet CNN ağ yapısı geliştiriniz.\n",
        "\n",
        "Ağ yapısı:\n",
        "Conv2D(32,(3,3))\n",
        "\n",
        "relu activation\n",
        "\n",
        "Conv2D(64,(3,3))\n",
        "\n",
        "relu activation\n",
        "\n",
        "Maxpooling ((2,2))\n",
        "\n",
        "Conv2D(128,(3,3))\n",
        "\n",
        "relu activation\n",
        "\n",
        "Conv2D(64,(3,3))\n",
        "\n",
        "relu activation\n",
        "\n",
        "Flatten()\n",
        "\n",
        "Dense 256\n",
        "\n",
        "dropout 0.25\n",
        "\n",
        "dense 128\n",
        "\n",
        "dropout 0.3\n",
        "\n",
        "dense layer for last (Buradaki bilgileri sizden bekliyorum.)\n",
        "\n",
        "10 epoch olacak şekilde çalıştırmanızı isitiyorum.\n",
        "\n",
        "daha sonrasında bathc_size 32 64 128 256 512 1024 olacak şekilde deneyiniz. Accuracy değerlerini ve çalışma süreleriniz karşılaştırnız. Bunu plot olarak çizdiriniz.\n",
        "\n",
        "---\n",
        "\n"
      ],
      "metadata": {
        "id": "R-XO3IJf5cqj"
      }
    },
    {
      "cell_type": "code",
      "execution_count": 2,
      "metadata": {
        "id": "LWmKwPDK5hnM"
      },
      "outputs": [],
      "source": [
        "from keras.datasets import mnist"
      ]
    },
    {
      "cell_type": "code",
      "source": [
        "(x_train, y_train),(x_test,y_test) = mnist.load_data()"
      ],
      "metadata": {
        "colab": {
          "base_uri": "https://localhost:8080/"
        },
        "id": "NS7RjbBP5nN_",
        "outputId": "43d171d9-22e8-4bc0-cad8-552cae93e33f"
      },
      "execution_count": 3,
      "outputs": [
        {
          "output_type": "stream",
          "name": "stdout",
          "text": [
            "Downloading data from https://storage.googleapis.com/tensorflow/tf-keras-datasets/mnist.npz\n",
            "11490434/11490434 [==============================] - 2s 0us/step\n"
          ]
        }
      ]
    },
    {
      "cell_type": "code",
      "source": [
        "len(x_train)"
      ],
      "metadata": {
        "colab": {
          "base_uri": "https://localhost:8080/"
        },
        "id": "CVbOsEVK5nLE",
        "outputId": "69f879fd-47b9-4342-99e8-4930c6ae60cb"
      },
      "execution_count": 4,
      "outputs": [
        {
          "output_type": "execute_result",
          "data": {
            "text/plain": [
              "60000"
            ]
          },
          "metadata": {},
          "execution_count": 4
        }
      ]
    },
    {
      "cell_type": "code",
      "source": [
        "x_test.shape"
      ],
      "metadata": {
        "colab": {
          "base_uri": "https://localhost:8080/"
        },
        "id": "U2j_hmnd71nn",
        "outputId": "c6982ce6-c6a4-4058-8fd5-b1179b46cdb2"
      },
      "execution_count": 5,
      "outputs": [
        {
          "output_type": "execute_result",
          "data": {
            "text/plain": [
              "(10000, 28, 28)"
            ]
          },
          "metadata": {},
          "execution_count": 5
        }
      ]
    },
    {
      "cell_type": "code",
      "source": [
        "from keras.utils.data_utils import random\n",
        "import cv2 \n",
        "import numpy as np\n",
        "from google.colab.patches import cv2_imshow\n",
        "\n",
        "for i in range(6):\n",
        "  rand_num = random.randint(0,len(x_train))\n",
        "  img = x_train[rand_num]\n",
        "  cv2_imshow(img)"
      ],
      "metadata": {
        "colab": {
          "base_uri": "https://localhost:8080/",
          "height": 185
        },
        "id": "W_2cEHJz5nIJ",
        "outputId": "1f368284-16e3-4625-8661-827199a2d1ee"
      },
      "execution_count": 6,
      "outputs": [
        {
          "output_type": "display_data",
          "data": {
            "text/plain": [
              "<PIL.Image.Image image mode=L size=28x28 at 0x7F7841FF27D0>"
            ],
            "image/png": "[encoded data removed]"
          },
          "metadata": {}
        },
        {
          "output_type": "display_data",
          "data": {
            "text/plain": [
              "<PIL.Image.Image image mode=L size=28x28 at 0x7F78426C7410>"
            ],
            "image/png": "[encoded data removed]"
          },
          "metadata": {}
        },
        {
          "output_type": "display_data",
          "data": {
            "text/plain": [
              "<PIL.Image.Image image mode=L size=28x28 at 0x7F7835190650>"
            ],
            "image/png": "[encoded data removed]"
          },
          "metadata": {}
        },
        {
          "output_type": "display_data",
          "data": {
            "text/plain": [
              "<PIL.Image.Image image mode=L size=28x28 at 0x7F78351799D0>"
            ],
            "image/png": "[encoded data removed]"
          },
          "metadata": {}
        },
        {
          "output_type": "display_data",
          "data": {
            "text/plain": [
              "<PIL.Image.Image image mode=L size=28x28 at 0x7F7835190810>"
            ],
            "image/png": "[encoded data removed]"
          },
          "metadata": {}
        },
        {
          "output_type": "display_data",
          "data": {
            "text/plain": [
              "<PIL.Image.Image image mode=L size=28x28 at 0x7F7835190650>"
            ],
            "image/png": "[encoded data removed]"
          },
          "metadata": {}
        }
      ]
    },
    {
      "cell_type": "code",
      "source": [
        "img_rows = x_train[0].shape[0]\n",
        "img_cols = x_train[1].shape[1]"
      ],
      "metadata": {
        "id": "PBgDsTKj5nFj"
      },
      "execution_count": 7,
      "outputs": []
    },
    {
      "cell_type": "code",
      "source": [
        "x_train = x_train.reshape(len(x_train), img_rows, img_cols, 1)\n",
        "x_test = x_test.reshape(len(x_test), img_rows, img_cols, 1)"
      ],
      "metadata": {
        "id": "lyh15Yp15nCw"
      },
      "execution_count": 8,
      "outputs": []
    },
    {
      "cell_type": "code",
      "source": [
        "x_train = x_train.astype(\"float32\")\n",
        "x_test = x_test.astype(\"float32\")"
      ],
      "metadata": {
        "id": "yhDz21045m_3"
      },
      "execution_count": 9,
      "outputs": []
    },
    {
      "cell_type": "code",
      "source": [
        "x_train /= 255\n",
        "x_test /= 255"
      ],
      "metadata": {
        "id": "kHGcumML5m9B"
      },
      "execution_count": 10,
      "outputs": []
    },
    {
      "cell_type": "code",
      "source": [
        "y_train[0:5]"
      ],
      "metadata": {
        "colab": {
          "base_uri": "https://localhost:8080/"
        },
        "id": "AhP_mH0q5m6N",
        "outputId": "a06740ec-264f-43eb-83de-aa1beabcfdd4"
      },
      "execution_count": 11,
      "outputs": [
        {
          "output_type": "execute_result",
          "data": {
            "text/plain": [
              "array([5, 0, 4, 1, 9], dtype=uint8)"
            ]
          },
          "metadata": {},
          "execution_count": 11
        }
      ]
    },
    {
      "cell_type": "code",
      "source": [
        "from keras.utils import np_utils\n",
        "\n",
        "y_train = np_utils.to_categorical(y_train)\n",
        "y_test = np_utils.to_categorical(y_test)\n"
      ],
      "metadata": {
        "id": "7xoxGLBVBfyu"
      },
      "execution_count": 12,
      "outputs": []
    },
    {
      "cell_type": "code",
      "source": [
        "num_class = y_test.shape[1]"
      ],
      "metadata": {
        "id": "nXsG6w7WBfvr"
      },
      "execution_count": 13,
      "outputs": []
    },
    {
      "cell_type": "code",
      "source": [
        "num_class"
      ],
      "metadata": {
        "id": "-KdzG8vUBftQ",
        "colab": {
          "base_uri": "https://localhost:8080/"
        },
        "outputId": "d5eb8ec9-d6fb-426f-b2eb-e5a62c303b7a"
      },
      "execution_count": 14,
      "outputs": [
        {
          "output_type": "execute_result",
          "data": {
            "text/plain": [
              "10"
            ]
          },
          "metadata": {},
          "execution_count": 14
        }
      ]
    },
    {
      "cell_type": "code",
      "source": [
        "import keras \n",
        "from keras.models import Sequential\n",
        "from keras.layers import Dense, Dropout, Flatten\n",
        "from keras.layers import Conv2D, MaxPooling2D\n",
        "from keras.optimizers import SGD"
      ],
      "metadata": {
        "id": "UMS2T4cSBfqm"
      },
      "execution_count": 15,
      "outputs": []
    },
    {
      "cell_type": "markdown",
      "source": [],
      "metadata": {
        "id": "zq5uu7OH5eDo"
      }
    },
    {
      "cell_type": "code",
      "source": [
        "model = Sequential()\n",
        "model.add(Conv2D(32, kernel_size = (3,3), activation = \"relu\", input_shape = (28,28,1)))\n",
        "model.add(Conv2D(64, kernel_size = (3,3), activation = \"relu\"))\n",
        "model.add(MaxPooling2D(pool_size = (2,2)))\n",
        "model.add(Conv2D(128, kernel_size = (3,3), activation = \"relu\"))\n",
        "model.add(Conv2D(64, kernel_size = (3,3), activation = \"relu\"))\n",
        "model.add(Flatten())\n",
        "model.add(Dense(256, activation = \"relu\"))\n",
        "model.add(Dropout(0.25))\n",
        "model.add(Dense(128, activation = \"relu\"))\n",
        "model.add(Dropout(0.5))\n",
        "model.add(Dense(num_class, activation = \"softmax\"))\n",
        "\n",
        "model.compile(loss = \"categorical_crossentropy\", optimizer = SGD(0.01), metrics = [\"accuracy\"])\n",
        "\n",
        "print(model.summary())\n"
      ],
      "metadata": {
        "id": "4oms81AkBfns",
        "colab": {
          "base_uri": "https://localhost:8080/"
        },
        "outputId": "94d1d328-a518-4675-f212-78af4a5843c9"
      },
      "execution_count": 16,
      "outputs": [
        {
          "output_type": "stream",
          "name": "stdout",
          "text": [
            "Model: \"sequential\"\n",
            "_________________________________________________________________\n",
            " Layer (type)                Output Shape              Param #   \n",
            "=================================================================\n",
            " conv2d (Conv2D)             (None, 26, 26, 32)        320       \n",
            "                                                                 \n",
            " conv2d_1 (Conv2D)           (None, 24, 24, 64)        18496     \n",
            "                                                                 \n",
            " max_pooling2d (MaxPooling2D  (None, 12, 12, 64)       0         \n",
            " )                                                               \n",
            "                                                                 \n",
            " conv2d_2 (Conv2D)           (None, 10, 10, 128)       73856     \n",
            "                                                                 \n",
            " conv2d_3 (Conv2D)           (None, 8, 8, 64)          73792     \n",
            "                                                                 \n",
            " flatten (Flatten)           (None, 4096)              0         \n",
            "                                                                 \n",
            " dense (Dense)               (None, 256)               1048832   \n",
            "                                                                 \n",
            " dropout (Dropout)           (None, 256)               0         \n",
            "                                                                 \n",
            " dense_1 (Dense)             (None, 128)               32896     \n",
            "                                                                 \n",
            " dropout_1 (Dropout)         (None, 128)               0         \n",
            "                                                                 \n",
            " dense_2 (Dense)             (None, 10)                1290      \n",
            "                                                                 \n",
            "=================================================================\n",
            "Total params: 1,249,482\n",
            "Trainable params: 1,249,482\n",
            "Non-trainable params: 0\n",
            "_________________________________________________________________\n",
            "None\n"
          ]
        }
      ]
    },
    {
      "cell_type": "code",
      "source": [
        "batch_size = 32 \n",
        "epochs = 10\n",
        "-\n",
        "  history = model.fit(x_train, y_train, batch_size = batch_size, epochs = epochs, verbose = 1, validation_data = (x_test, y_test))\n",
        "\n",
        "  score = model.evaluate(x_test, y_test)\n",
        "\n",
        "  print(\"test loss: \", score[0] )\n",
        "  print(\"test loss: \", score[1] )\n",
        "\n",
        "  batch_size = batch_size*2"
      ],
      "metadata": {
        "colab": {
          "base_uri": "https://localhost:8080/"
        },
        "id": "qrrzVtHCWHkm",
        "outputId": "05514992-1876-4761-9be2-b04030360ec0"
      },
      "execution_count": null,
      "outputs": [
        {
          "output_type": "stream",
          "name": "stdout",
          "text": [
            "Epoch 1/10\n",
            "1875/1875 [==============================] - 319s 170ms/step - loss: 0.5705 - accuracy: 0.8225 - val_loss: 0.1311 - val_accuracy: 0.9583\n",
            "Epoch 2/10\n",
            "1875/1875 [==============================] - 319s 170ms/step - loss: 0.1806 - accuracy: 0.9478 - val_loss: 0.0844 - val_accuracy: 0.9742\n",
            "Epoch 3/10\n",
            "1875/1875 [==============================] - 322s 172ms/step - loss: 0.1250 - accuracy: 0.9640 - val_loss: 0.0630 - val_accuracy: 0.9808\n",
            "Epoch 4/10\n",
            "1875/1875 [==============================] - 318s 170ms/step - loss: 0.0947 - accuracy: 0.9729 - val_loss: 0.0566 - val_accuracy: 0.9835\n",
            "Epoch 5/10\n",
            "1875/1875 [==============================] - 317s 169ms/step - loss: 0.0825 - accuracy: 0.9766 - val_loss: 0.0508 - val_accuracy: 0.9848\n",
            "Epoch 6/10\n",
            "1875/1875 [==============================] - 317s 169ms/step - loss: 0.0695 - accuracy: 0.9804 - val_loss: 0.0471 - val_accuracy: 0.9870\n",
            "Epoch 7/10\n",
            "1875/1875 [==============================] - 320s 171ms/step - loss: 0.0615 - accuracy: 0.9821 - val_loss: 0.0426 - val_accuracy: 0.9870\n",
            "Epoch 8/10\n",
            "1875/1875 [==============================] - 324s 173ms/step - loss: 0.0540 - accuracy: 0.9840 - val_loss: 0.0394 - val_accuracy: 0.9890\n",
            "Epoch 9/10\n",
            "1875/1875 [==============================] - 319s 170ms/step - loss: 0.0500 - accuracy: 0.9855 - val_loss: 0.0373 - val_accuracy: 0.9897\n",
            "Epoch 10/10\n",
            "1875/1875 [==============================] - 319s 170ms/step - loss: 0.0449 - accuracy: 0.9870 - val_loss: 0.0354 - val_accuracy: 0.9897\n",
            "313/313 [==============================] - 13s 43ms/step - loss: 0.0354 - accuracy: 0.9897\n",
            "test loss:  0.03536813706159592\n",
            "test loss:  0.9897000193595886\n",
            "Epoch 1/10\n",
            "938/938 [==============================] - 301s 321ms/step - loss: 0.0347 - accuracy: 0.9899 - val_loss: 0.0327 - val_accuracy: 0.9911\n",
            "Epoch 2/10\n",
            "938/938 [==============================] - 312s 332ms/step - loss: 0.0312 - accuracy: 0.9910 - val_loss: 0.0319 - val_accuracy: 0.9902\n",
            "Epoch 3/10\n",
            "938/938 [==============================] - 308s 329ms/step - loss: 0.0302 - accuracy: 0.9913 - val_loss: 0.0344 - val_accuracy: 0.9910\n",
            "Epoch 4/10\n",
            "938/938 [==============================] - 302s 322ms/step - loss: 0.0270 - accuracy: 0.9922 - val_loss: 0.0328 - val_accuracy: 0.9908\n",
            "Epoch 5/10\n",
            "938/938 [==============================] - 303s 323ms/step - loss: 0.0266 - accuracy: 0.9922 - val_loss: 0.0330 - val_accuracy: 0.9912\n",
            "Epoch 6/10\n",
            "938/938 [==============================] - 301s 321ms/step - loss: 0.0249 - accuracy: 0.9928 - val_loss: 0.0335 - val_accuracy: 0.9904\n",
            "Epoch 7/10\n",
            "938/938 [==============================] - 303s 323ms/step - loss: 0.0234 - accuracy: 0.9931 - val_loss: 0.0320 - val_accuracy: 0.9915\n",
            "Epoch 8/10\n",
            "938/938 [==============================] - 301s 321ms/step - loss: 0.0217 - accuracy: 0.9937 - val_loss: 0.0306 - val_accuracy: 0.9921\n",
            "Epoch 9/10\n",
            "938/938 [==============================] - 299s 319ms/step - loss: 0.0213 - accuracy: 0.9934 - val_loss: 0.0327 - val_accuracy: 0.9918\n",
            "Epoch 10/10\n",
            "938/938 [==============================] - 299s 319ms/step - loss: 0.0200 - accuracy: 0.9937 - val_loss: 0.0321 - val_accuracy: 0.9915\n",
            "313/313 [==============================] - 13s 42ms/step - loss: 0.0321 - accuracy: 0.9915\n",
            "test loss:  0.032142817974090576\n",
            "test loss:  0.9915000200271606\n",
            "Epoch 1/10\n",
            "469/469 [==============================] - 292s 622ms/step - loss: 0.0176 - accuracy: 0.9947 - val_loss: 0.0328 - val_accuracy: 0.9926\n",
            "Epoch 2/10\n",
            "469/469 [==============================] - 289s 617ms/step - loss: 0.0159 - accuracy: 0.9955 - val_loss: 0.0325 - val_accuracy: 0.9916\n",
            "Epoch 3/10\n",
            "469/469 [==============================] - 292s 623ms/step - loss: 0.0150 - accuracy: 0.9954 - val_loss: 0.0339 - val_accuracy: 0.9917\n",
            "Epoch 4/10\n",
            "469/469 [==============================] - 301s 642ms/step - loss: 0.0155 - accuracy: 0.9955 - val_loss: 0.0327 - val_accuracy: 0.9924\n",
            "Epoch 5/10\n",
            "469/469 [==============================] - 305s 651ms/step - loss: 0.0139 - accuracy: 0.9960 - val_loss: 0.0342 - val_accuracy: 0.9915\n",
            "Epoch 6/10\n",
            "469/469 [==============================] - 309s 660ms/step - loss: 0.0139 - accuracy: 0.9958 - val_loss: 0.0347 - val_accuracy: 0.9919\n",
            "Epoch 7/10\n",
            "469/469 [==============================] - 316s 673ms/step - loss: 0.0128 - accuracy: 0.9960 - val_loss: 0.0350 - val_accuracy: 0.9917\n",
            "Epoch 8/10\n",
            "469/469 [==============================] - 316s 673ms/step - loss: 0.0130 - accuracy: 0.9958 - val_loss: 0.0355 - val_accuracy: 0.9913\n",
            "Epoch 9/10\n",
            "469/469 [==============================] - 308s 656ms/step - loss: 0.0127 - accuracy: 0.9964 - val_loss: 0.0374 - val_accuracy: 0.9916\n",
            "Epoch 10/10\n",
            "469/469 [==============================] - 310s 661ms/step - loss: 0.0131 - accuracy: 0.9959 - val_loss: 0.0338 - val_accuracy: 0.9924\n",
            "313/313 [==============================] - 13s 41ms/step - loss: 0.0338 - accuracy: 0.9924\n",
            "test loss:  0.03384467959403992\n",
            "test loss:  0.9923999905586243\n",
            "Epoch 1/10\n",
            "235/235 [==============================] - 300s 1s/step - loss: 0.0108 - accuracy: 0.9966 - val_loss: 0.0341 - val_accuracy: 0.9915\n",
            "Epoch 2/10\n",
            "235/235 [==============================] - 299s 1s/step - loss: 0.0115 - accuracy: 0.9966 - val_loss: 0.0343 - val_accuracy: 0.9917\n",
            "Epoch 3/10\n",
            "235/235 [==============================] - 304s 1s/step - loss: 0.0115 - accuracy: 0.9967 - val_loss: 0.0358 - val_accuracy: 0.9920\n",
            "Epoch 4/10\n",
            "235/235 [==============================] - 304s 1s/step - loss: 0.0103 - accuracy: 0.9967 - val_loss: 0.0351 - val_accuracy: 0.9922\n",
            "Epoch 5/10\n",
            "235/235 [==============================] - 297s 1s/step - loss: 0.0107 - accuracy: 0.9968 - val_loss: 0.0349 - val_accuracy: 0.9916\n",
            "Epoch 6/10\n",
            "235/235 [==============================] - 297s 1s/step - loss: 0.0099 - accuracy: 0.9971 - val_loss: 0.0356 - val_accuracy: 0.9917\n",
            "Epoch 7/10\n",
            "235/235 [==============================] - 294s 1s/step - loss: 0.0104 - accuracy: 0.9969 - val_loss: 0.0348 - val_accuracy: 0.9920\n",
            "Epoch 8/10\n",
            "235/235 [==============================] - 294s 1s/step - loss: 0.0094 - accuracy: 0.9970 - val_loss: 0.0361 - val_accuracy: 0.9915\n",
            "Epoch 9/10\n",
            "235/235 [==============================] - 287s 1s/step - loss: 0.0094 - accuracy: 0.9970 - val_loss: 0.0360 - val_accuracy: 0.9916\n",
            "Epoch 10/10\n",
            "235/235 [==============================] - 284s 1s/step - loss: 0.0090 - accuracy: 0.9970 - val_loss: 0.0368 - val_accuracy: 0.9919\n",
            "313/313 [==============================] - 14s 44ms/step - loss: 0.0368 - accuracy: 0.9919\n",
            "test loss:  0.03677941858768463\n",
            "test loss:  0.9919000267982483\n",
            "Epoch 1/10\n",
            "118/118 [==============================] - 283s 2s/step - loss: 0.0097 - accuracy: 0.9969 - val_loss: 0.0352 - val_accuracy: 0.9917\n",
            "Epoch 2/10\n",
            "118/118 [==============================] - 282s 2s/step - loss: 0.0088 - accuracy: 0.9975 - val_loss: 0.0355 - val_accuracy: 0.9917\n",
            "Epoch 3/10\n",
            "118/118 [==============================] - 282s 2s/step - loss: 0.0088 - accuracy: 0.9974 - val_loss: 0.0358 - val_accuracy: 0.9920\n",
            "Epoch 4/10\n",
            "118/118 [==============================] - 280s 2s/step - loss: 0.0093 - accuracy: 0.9972 - val_loss: 0.0356 - val_accuracy: 0.9922\n",
            "Epoch 5/10\n",
            "118/118 [==============================] - 282s 2s/step - loss: 0.0080 - accuracy: 0.9977 - val_loss: 0.0357 - val_accuracy: 0.9919\n",
            "Epoch 6/10\n",
            "118/118 [==============================] - 282s 2s/step - loss: 0.0083 - accuracy: 0.9974 - val_loss: 0.0360 - val_accuracy: 0.9919\n",
            "Epoch 7/10\n",
            "118/118 [==============================] - 280s 2s/step - loss: 0.0078 - accuracy: 0.9977 - val_loss: 0.0364 - val_accuracy: 0.9916\n",
            "Epoch 8/10\n",
            "118/118 [==============================] - 282s 2s/step - loss: 0.0082 - accuracy: 0.9976 - val_loss: 0.0366 - val_accuracy: 0.9916\n",
            "Epoch 9/10\n",
            "118/118 [==============================] - 283s 2s/step - loss: 0.0087 - accuracy: 0.9974 - val_loss: 0.0363 - val_accuracy: 0.9915\n",
            "Epoch 10/10\n",
            "118/118 [==============================] - 283s 2s/step - loss: 0.0076 - accuracy: 0.9977 - val_loss: 0.0368 - val_accuracy: 0.9916\n",
            "313/313 [==============================] - 13s 41ms/step - loss: 0.0368 - accuracy: 0.9916\n",
            "test loss:  0.03684386610984802\n",
            "test loss:  0.991599977016449\n"
          ]
        }
      ]
    },
    {
      "cell_type": "code",
      "source": [
        "batch_size = 32 \n",
        "epochs = 10\n",
        "\n",
        "history1 = model.fit(x_train, y_train, batch_size = batch_size, epochs = epochs, verbose = 1, validation_data = (x_test, y_test))\n",
        "\n",
        "score1 = model.evaluate(x_test, y_test)\n",
        "\n",
        "print(\"test loss: \", score1[0] )\n",
        "print(\"test loss: \", score1[1] )"
      ],
      "metadata": {
        "id": "TXP6ubyv4m5H",
        "colab": {
          "base_uri": "https://localhost:8080/"
        },
        "outputId": "31890c03-ff7e-415b-ccac-f5c549d38414"
      },
      "execution_count": 17,
      "outputs": [
        {
          "output_type": "stream",
          "name": "stdout",
          "text": [
            "Epoch 1/10\n",
            "1875/1875 [==============================] - 18s 5ms/step - loss: 0.6004 - accuracy: 0.8052 - val_loss: 0.1370 - val_accuracy: 0.9589\n",
            "Epoch 2/10\n",
            "1875/1875 [==============================] - 9s 5ms/step - loss: 0.1769 - accuracy: 0.9484 - val_loss: 0.0778 - val_accuracy: 0.9763\n",
            "Epoch 3/10\n",
            "1875/1875 [==============================] - 10s 5ms/step - loss: 0.1213 - accuracy: 0.9654 - val_loss: 0.0611 - val_accuracy: 0.9822\n",
            "Epoch 4/10\n",
            "1875/1875 [==============================] - 10s 6ms/step - loss: 0.0971 - accuracy: 0.9725 - val_loss: 0.0533 - val_accuracy: 0.9833\n",
            "Epoch 5/10\n",
            "1875/1875 [==============================] - 10s 5ms/step - loss: 0.0812 - accuracy: 0.9768 - val_loss: 0.0437 - val_accuracy: 0.9872\n",
            "Epoch 6/10\n",
            "1875/1875 [==============================] - 10s 5ms/step - loss: 0.0696 - accuracy: 0.9805 - val_loss: 0.0441 - val_accuracy: 0.9868\n",
            "Epoch 7/10\n",
            "1875/1875 [==============================] - 10s 5ms/step - loss: 0.0617 - accuracy: 0.9822 - val_loss: 0.0428 - val_accuracy: 0.9876\n",
            "Epoch 8/10\n",
            "1875/1875 [==============================] - 9s 5ms/step - loss: 0.0562 - accuracy: 0.9839 - val_loss: 0.0379 - val_accuracy: 0.9891\n",
            "Epoch 9/10\n",
            "1875/1875 [==============================] - 9s 5ms/step - loss: 0.0512 - accuracy: 0.9851 - val_loss: 0.0369 - val_accuracy: 0.9891\n",
            "Epoch 10/10\n",
            "1875/1875 [==============================] - 9s 5ms/step - loss: 0.0447 - accuracy: 0.9866 - val_loss: 0.0354 - val_accuracy: 0.9895\n",
            "313/313 [==============================] - 1s 4ms/step - loss: 0.0354 - accuracy: 0.9895\n",
            "test loss:  0.03542570397257805\n",
            "test loss:  0.9894999861717224\n"
          ]
        }
      ]
    },
    {
      "cell_type": "code",
      "source": [
        "batch_size = 64 \n",
        "epochs = 10\n",
        "\n",
        "history2 = model.fit(x_train, y_train, batch_size = batch_size, epochs = epochs, verbose = 1, validation_data = (x_test, y_test))\n",
        "\n",
        "score2 = model.evaluate(x_test, y_test)\n",
        "\n",
        "print(\"test loss: \", score2[0] )\n",
        "print(\"test loss: \", score2[1] )"
      ],
      "metadata": {
        "id": "BLyvlK4p4ms4",
        "colab": {
          "base_uri": "https://localhost:8080/"
        },
        "outputId": "e18cccf3-8a36-41aa-ce2e-b26ac9971040"
      },
      "execution_count": 18,
      "outputs": [
        {
          "output_type": "stream",
          "name": "stdout",
          "text": [
            "Epoch 1/10\n",
            "938/938 [==============================] - 8s 8ms/step - loss: 0.0336 - accuracy: 0.9902 - val_loss: 0.0319 - val_accuracy: 0.9914\n",
            "Epoch 2/10\n",
            "938/938 [==============================] - 7s 7ms/step - loss: 0.0321 - accuracy: 0.9908 - val_loss: 0.0326 - val_accuracy: 0.9907\n",
            "Epoch 3/10\n",
            "938/938 [==============================] - 7s 7ms/step - loss: 0.0305 - accuracy: 0.9910 - val_loss: 0.0319 - val_accuracy: 0.9917\n",
            "Epoch 4/10\n",
            "938/938 [==============================] - 6s 7ms/step - loss: 0.0283 - accuracy: 0.9915 - val_loss: 0.0306 - val_accuracy: 0.9912\n",
            "Epoch 5/10\n",
            "938/938 [==============================] - 7s 7ms/step - loss: 0.0252 - accuracy: 0.9924 - val_loss: 0.0338 - val_accuracy: 0.9907\n",
            "Epoch 6/10\n",
            "938/938 [==============================] - 6s 7ms/step - loss: 0.0254 - accuracy: 0.9927 - val_loss: 0.0346 - val_accuracy: 0.9900\n",
            "Epoch 7/10\n",
            "938/938 [==============================] - 7s 7ms/step - loss: 0.0239 - accuracy: 0.9932 - val_loss: 0.0307 - val_accuracy: 0.9915\n",
            "Epoch 8/10\n",
            "938/938 [==============================] - 7s 7ms/step - loss: 0.0231 - accuracy: 0.9930 - val_loss: 0.0337 - val_accuracy: 0.9903\n",
            "Epoch 9/10\n",
            "938/938 [==============================] - 6s 7ms/step - loss: 0.0220 - accuracy: 0.9934 - val_loss: 0.0348 - val_accuracy: 0.9913\n",
            "Epoch 10/10\n",
            "938/938 [==============================] - 6s 7ms/step - loss: 0.0203 - accuracy: 0.9938 - val_loss: 0.0321 - val_accuracy: 0.9910\n",
            "313/313 [==============================] - 1s 4ms/step - loss: 0.0321 - accuracy: 0.9910\n",
            "test loss:  0.03212399780750275\n",
            "test loss:  0.9909999966621399\n"
          ]
        }
      ]
    },
    {
      "cell_type": "code",
      "source": [
        "batch_size = 128 \n",
        "epochs = 10\n",
        "\n",
        "history3 = model.fit(x_train, y_train, batch_size = batch_size, epochs = epochs, verbose = 1, validation_data = (x_test, y_test))\n",
        "\n",
        "score3 = model.evaluate(x_test, y_test)\n",
        "\n",
        "print(\"test loss: \", score3[0] )\n",
        "print(\"test loss: \", score3[1] )"
      ],
      "metadata": {
        "id": "V7N4BNbK4mbM",
        "colab": {
          "base_uri": "https://localhost:8080/"
        },
        "outputId": "928a9652-4d22-4274-d5a0-ad891a47a5a2"
      },
      "execution_count": 19,
      "outputs": [
        {
          "output_type": "stream",
          "name": "stdout",
          "text": [
            "Epoch 1/10\n",
            "469/469 [==============================] - 6s 12ms/step - loss: 0.0180 - accuracy: 0.9947 - val_loss: 0.0327 - val_accuracy: 0.9921\n",
            "Epoch 2/10\n",
            "469/469 [==============================] - 5s 12ms/step - loss: 0.0162 - accuracy: 0.9950 - val_loss: 0.0327 - val_accuracy: 0.9913\n",
            "Epoch 3/10\n",
            "469/469 [==============================] - 5s 11ms/step - loss: 0.0150 - accuracy: 0.9955 - val_loss: 0.0310 - val_accuracy: 0.9913\n",
            "Epoch 4/10\n",
            "469/469 [==============================] - 5s 11ms/step - loss: 0.0154 - accuracy: 0.9955 - val_loss: 0.0327 - val_accuracy: 0.9914\n",
            "Epoch 5/10\n",
            "469/469 [==============================] - 6s 12ms/step - loss: 0.0149 - accuracy: 0.9956 - val_loss: 0.0326 - val_accuracy: 0.9917\n",
            "Epoch 6/10\n",
            "469/469 [==============================] - 5s 11ms/step - loss: 0.0148 - accuracy: 0.9956 - val_loss: 0.0325 - val_accuracy: 0.9908\n",
            "Epoch 7/10\n",
            "469/469 [==============================] - 5s 12ms/step - loss: 0.0140 - accuracy: 0.9958 - val_loss: 0.0353 - val_accuracy: 0.9909\n",
            "Epoch 8/10\n",
            "469/469 [==============================] - 5s 11ms/step - loss: 0.0131 - accuracy: 0.9963 - val_loss: 0.0347 - val_accuracy: 0.9912\n",
            "Epoch 9/10\n",
            "469/469 [==============================] - 5s 12ms/step - loss: 0.0136 - accuracy: 0.9956 - val_loss: 0.0339 - val_accuracy: 0.9915\n",
            "Epoch 10/10\n",
            "469/469 [==============================] - 6s 12ms/step - loss: 0.0118 - accuracy: 0.9962 - val_loss: 0.0364 - val_accuracy: 0.9903\n",
            "313/313 [==============================] - 1s 4ms/step - loss: 0.0364 - accuracy: 0.9903\n",
            "test loss:  0.036369387060403824\n",
            "test loss:  0.9902999997138977\n"
          ]
        }
      ]
    },
    {
      "cell_type": "code",
      "source": [
        "batch_size = 256 \n",
        "epochs = 10\n",
        "\n",
        "history4 = model.fit(x_train, y_train, batch_size = batch_size, epochs = epochs, verbose = 1, validation_data = (x_test, y_test))\n",
        "\n",
        "score4 = model.evaluate(x_test, y_test)\n",
        "\n",
        "print(\"test loss: \", score4[0] )\n",
        "print(\"test loss: \", score4[1] )"
      ],
      "metadata": {
        "id": "MsAJDjkz4mVX",
        "colab": {
          "base_uri": "https://localhost:8080/"
        },
        "outputId": "dcd998ab-1a3b-4bbf-f569-41e2cbe8006a"
      },
      "execution_count": 20,
      "outputs": [
        {
          "output_type": "stream",
          "name": "stdout",
          "text": [
            "Epoch 1/10\n",
            "235/235 [==============================] - 5s 19ms/step - loss: 0.0114 - accuracy: 0.9966 - val_loss: 0.0357 - val_accuracy: 0.9912\n",
            "Epoch 2/10\n",
            "235/235 [==============================] - 4s 19ms/step - loss: 0.0115 - accuracy: 0.9966 - val_loss: 0.0348 - val_accuracy: 0.9915\n",
            "Epoch 3/10\n",
            "235/235 [==============================] - 4s 18ms/step - loss: 0.0113 - accuracy: 0.9966 - val_loss: 0.0350 - val_accuracy: 0.9915\n",
            "Epoch 4/10\n",
            "235/235 [==============================] - 4s 18ms/step - loss: 0.0103 - accuracy: 0.9969 - val_loss: 0.0356 - val_accuracy: 0.9916\n",
            "Epoch 5/10\n",
            "235/235 [==============================] - 4s 18ms/step - loss: 0.0102 - accuracy: 0.9970 - val_loss: 0.0355 - val_accuracy: 0.9913\n",
            "Epoch 6/10\n",
            "235/235 [==============================] - 4s 19ms/step - loss: 0.0098 - accuracy: 0.9971 - val_loss: 0.0360 - val_accuracy: 0.9914\n",
            "Epoch 7/10\n",
            "235/235 [==============================] - 4s 19ms/step - loss: 0.0106 - accuracy: 0.9970 - val_loss: 0.0350 - val_accuracy: 0.9911\n",
            "Epoch 8/10\n",
            "235/235 [==============================] - 4s 19ms/step - loss: 0.0099 - accuracy: 0.9969 - val_loss: 0.0357 - val_accuracy: 0.9913\n",
            "Epoch 9/10\n",
            "235/235 [==============================] - 4s 19ms/step - loss: 0.0092 - accuracy: 0.9970 - val_loss: 0.0355 - val_accuracy: 0.9920\n",
            "Epoch 10/10\n",
            "235/235 [==============================] - 4s 19ms/step - loss: 0.0102 - accuracy: 0.9967 - val_loss: 0.0353 - val_accuracy: 0.9916\n",
            "313/313 [==============================] - 1s 3ms/step - loss: 0.0353 - accuracy: 0.9916\n",
            "test loss:  0.03528863564133644\n",
            "test loss:  0.991599977016449\n"
          ]
        }
      ]
    },
    {
      "cell_type": "code",
      "source": [
        "batch_size =  512\n",
        "epochs = 10\n",
        "\n",
        "history5 = model.fit(x_train, y_train, batch_size = batch_size, epochs = epochs, verbose = 1, validation_data = (x_test, y_test))\n",
        "\n",
        "score5 = model.evaluate(x_test, y_test)\n",
        "\n",
        "print(\"test loss: \", score5[0] )\n",
        "print(\"test loss: \", score5[1] )"
      ],
      "metadata": {
        "id": "Byf6l3rC4mPo",
        "colab": {
          "base_uri": "https://localhost:8080/"
        },
        "outputId": "e5818a1f-ef03-49b0-9dac-2a2acd1b6146"
      },
      "execution_count": 21,
      "outputs": [
        {
          "output_type": "stream",
          "name": "stdout",
          "text": [
            "Epoch 1/10\n",
            "118/118 [==============================] - 5s 35ms/step - loss: 0.0093 - accuracy: 0.9970 - val_loss: 0.0358 - val_accuracy: 0.9916\n",
            "Epoch 2/10\n",
            "118/118 [==============================] - 4s 33ms/step - loss: 0.0096 - accuracy: 0.9970 - val_loss: 0.0367 - val_accuracy: 0.9912\n",
            "Epoch 3/10\n",
            "118/118 [==============================] - 4s 33ms/step - loss: 0.0097 - accuracy: 0.9970 - val_loss: 0.0356 - val_accuracy: 0.9919\n",
            "Epoch 4/10\n",
            "118/118 [==============================] - 4s 33ms/step - loss: 0.0088 - accuracy: 0.9972 - val_loss: 0.0357 - val_accuracy: 0.9916\n",
            "Epoch 5/10\n",
            "118/118 [==============================] - 4s 34ms/step - loss: 0.0086 - accuracy: 0.9970 - val_loss: 0.0362 - val_accuracy: 0.9916\n",
            "Epoch 6/10\n",
            "118/118 [==============================] - 4s 33ms/step - loss: 0.0086 - accuracy: 0.9974 - val_loss: 0.0354 - val_accuracy: 0.9911\n",
            "Epoch 7/10\n",
            "118/118 [==============================] - 4s 33ms/step - loss: 0.0085 - accuracy: 0.9974 - val_loss: 0.0358 - val_accuracy: 0.9916\n",
            "Epoch 8/10\n",
            "118/118 [==============================] - 4s 33ms/step - loss: 0.0080 - accuracy: 0.9977 - val_loss: 0.0364 - val_accuracy: 0.9914\n",
            "Epoch 9/10\n",
            "118/118 [==============================] - 4s 33ms/step - loss: 0.0090 - accuracy: 0.9973 - val_loss: 0.0367 - val_accuracy: 0.9912\n",
            "Epoch 10/10\n",
            "118/118 [==============================] - 4s 33ms/step - loss: 0.0085 - accuracy: 0.9976 - val_loss: 0.0363 - val_accuracy: 0.9911\n",
            "313/313 [==============================] - 1s 3ms/step - loss: 0.0363 - accuracy: 0.9911\n",
            "test loss:  0.03626347333192825\n",
            "test loss:  0.991100013256073\n"
          ]
        }
      ]
    },
    {
      "cell_type": "code",
      "source": [
        "batch_size =  1024\n",
        "epochs = 10\n",
        "\n",
        "history6 = model.fit(x_train, y_train, batch_size = batch_size, epochs = epochs, verbose = 1, validation_data = (x_test, y_test))\n",
        "\n",
        "score6 = model.evaluate(x_test, y_test)\n",
        "\n",
        "print(\"test loss: \", score6[0] )\n",
        "print(\"test loss: \", score6[1] )"
      ],
      "metadata": {
        "id": "wyxuef0N4mIl",
        "colab": {
          "base_uri": "https://localhost:8080/"
        },
        "outputId": "fe12562d-7fec-45e8-d41d-9d499705a883"
      },
      "execution_count": 22,
      "outputs": [
        {
          "output_type": "stream",
          "name": "stdout",
          "text": [
            "Epoch 1/10\n",
            "59/59 [==============================] - 6s 85ms/step - loss: 0.0083 - accuracy: 0.9977 - val_loss: 0.0364 - val_accuracy: 0.9913\n",
            "Epoch 2/10\n",
            "59/59 [==============================] - 4s 66ms/step - loss: 0.0086 - accuracy: 0.9973 - val_loss: 0.0365 - val_accuracy: 0.9912\n",
            "Epoch 3/10\n",
            "59/59 [==============================] - 4s 64ms/step - loss: 0.0088 - accuracy: 0.9974 - val_loss: 0.0363 - val_accuracy: 0.9916\n",
            "Epoch 4/10\n",
            "59/59 [==============================] - 4s 66ms/step - loss: 0.0083 - accuracy: 0.9975 - val_loss: 0.0367 - val_accuracy: 0.9911\n",
            "Epoch 5/10\n",
            "59/59 [==============================] - 4s 64ms/step - loss: 0.0085 - accuracy: 0.9973 - val_loss: 0.0364 - val_accuracy: 0.9916\n",
            "Epoch 6/10\n",
            "59/59 [==============================] - 4s 64ms/step - loss: 0.0076 - accuracy: 0.9976 - val_loss: 0.0363 - val_accuracy: 0.9917\n",
            "Epoch 7/10\n",
            "59/59 [==============================] - 4s 65ms/step - loss: 0.0080 - accuracy: 0.9976 - val_loss: 0.0363 - val_accuracy: 0.9915\n",
            "Epoch 8/10\n",
            "59/59 [==============================] - 4s 66ms/step - loss: 0.0078 - accuracy: 0.9977 - val_loss: 0.0365 - val_accuracy: 0.9912\n",
            "Epoch 9/10\n",
            "59/59 [==============================] - 4s 64ms/step - loss: 0.0078 - accuracy: 0.9976 - val_loss: 0.0361 - val_accuracy: 0.9914\n",
            "Epoch 10/10\n",
            "59/59 [==============================] - 4s 64ms/step - loss: 0.0074 - accuracy: 0.9976 - val_loss: 0.0362 - val_accuracy: 0.9915\n",
            "313/313 [==============================] - 1s 3ms/step - loss: 0.0362 - accuracy: 0.9915\n",
            "test loss:  0.036237169057130814\n",
            "test loss:  0.9915000200271606\n"
          ]
        }
      ]
    },
    {
      "cell_type": "code",
      "source": [
        "import matplotlib.pyplot as plt"
      ],
      "metadata": {
        "id": "jXpzWl0D3hfq"
      },
      "execution_count": 23,
      "outputs": []
    },
    {
      "cell_type": "code",
      "source": [
        "history_dict1 = history1.history\n",
        "loss_values = history_dict1[\"loss\"]\n",
        "val_loss_values = history_dict1[\"val_loss\"]\n",
        "epochs = range(1,len(val_loss_values)+1)\n",
        "\n",
        "line1 = plt.plot(epochs,val_loss_values,label=\"Validation/Test Loss\")\n",
        "line2 = plt.plot(epochs,loss_values,label=\"Train Loss\")\n",
        "plt.xlabel(\"Epochs\")\n",
        "plt.ylabel(\"Loss\")\n",
        "plt.grid(True)\n",
        "plt.legend()\n",
        "plt.show()"
      ],
      "metadata": {
        "colab": {
          "base_uri": "https://localhost:8080/",
          "height": 279
        },
        "id": "VZdliwN03hdn",
        "outputId": "8ded0e9b-9559-4d1c-d10d-6b57babcbaa1"
      },
      "execution_count": 50,
      "outputs": [
        {
          "output_type": "display_data",
          "data": {
            "text/plain": [
              "<Figure size 432x288 with 1 Axes>"
            ],
            "image/png": "[encoded data removed]"
          },
          "metadata": {
            "needs_background": "light"
          }
        }
      ]
    },
    {
      "cell_type": "code",
      "source": [
        "history_dict1 = history1.history\n",
        "acc_values = history_dict1[\"accuracy\"]\n",
        "val_acc_values = history_dict1[\"val_accuracy\"]\n",
        "epochs = range(1,len(val_acc_values)+1)\n",
        "line1 = plt.plot(epochs,val_acc_values,label=\"Validation/Test Acc\")\n",
        "line2 = plt.plot(epochs,acc_values,label=\"Train Acc\")\n",
        "plt.xlabel(\"Epochs\")\n",
        "plt.ylabel(\"Acc\")\n",
        "plt.grid(True)\n",
        "plt.legend()\n",
        "plt.show()\n"
      ],
      "metadata": {
        "colab": {
          "base_uri": "https://localhost:8080/",
          "height": 279
        },
        "id": "Qc3Dg5Gl3hbI",
        "outputId": "56089cfb-98f9-4a70-e521-128682e43a8a"
      },
      "execution_count": 51,
      "outputs": [
        {
          "output_type": "display_data",
          "data": {
            "text/plain": [
              "<Figure size 432x288 with 1 Axes>"
            ],
            "image/png": "[encoded data removed]"
          },
          "metadata": {
            "needs_background": "light"
          }
        }
      ]
    },
    {
      "cell_type": "code",
      "source": [],
      "metadata": {
        "colab": {
          "base_uri": "https://localhost:8080/"
        },
        "id": "AVE3s4UV3hYm",
        "outputId": "d1947bcd-e7f3-4e1d-bd8a-a66bec0b9bc8"
      },
      "execution_count": null,
      "outputs": [
        {
          "output_type": "execute_result",
          "data": {
            "text/plain": [
              "1024"
            ]
          },
          "metadata": {},
          "execution_count": 29
        }
      ]
    },
    {
      "cell_type": "code",
      "source": [
        "history_dict2 = history2.history\n",
        "loss_values = history_dict2[\"loss\"]\n",
        "val_loss_values = history_dict2[\"val_loss\"]\n",
        "epochs = range(1,len(val_loss_values)+1)\n",
        "\n",
        "line1 = plt.plot(epochs,val_loss_values,label=\"Validation/Test Loss\")\n",
        "line2 = plt.plot(epochs,loss_values,label=\"Train Loss\")\n",
        "plt.xlabel(\"Epochs\")\n",
        "plt.ylabel(\"Loss\")\n",
        "plt.grid(True)\n",
        "plt.legend()\n",
        "plt.show()"
      ],
      "metadata": {
        "colab": {
          "base_uri": "https://localhost:8080/",
          "height": 279
        },
        "id": "qAbwTBIBvmwY",
        "outputId": "bb87cee8-d6c6-4e2f-da35-b49975811b51"
      },
      "execution_count": 40,
      "outputs": [
        {
          "output_type": "display_data",
          "data": {
            "text/plain": [
              "<Figure size 432x288 with 1 Axes>"
            ],
            "image/png": "[encoded data removed]"
          },
          "metadata": {
            "needs_background": "light"
          }
        }
      ]
    },
    {
      "cell_type": "code",
      "source": [
        "history_dict2 = history2.history\n",
        "acc_values = history_dict2[\"accuracy\"]\n",
        "val_acc_values = history_dict2[\"val_accuracy\"]\n",
        "epochs = range(1,len(val_acc_values)+1)\n",
        "line1 = plt.plot(epochs,val_acc_values,label=\"Validation/Test Acc\")\n",
        "line2 = plt.plot(epochs,acc_values,label=\"Train Acc\")\n",
        "plt.xlabel(\"Epochs\")\n",
        "plt.ylabel(\"Acc\")\n",
        "plt.grid(True)\n",
        "plt.legend()\n",
        "plt.show()\n"
      ],
      "metadata": {
        "colab": {
          "base_uri": "https://localhost:8080/",
          "height": 283
        },
        "id": "xm0z0iYVvmwa",
        "outputId": "b31c2d2e-b040-4dc1-c480-8a4ba21c4f89"
      },
      "execution_count": 41,
      "outputs": [
        {
          "output_type": "display_data",
          "data": {
            "text/plain": [
              "<Figure size 432x288 with 1 Axes>"
            ],
            "image/png": "[encoded data removed]"
          },
          "metadata": {
            "needs_background": "light"
          }
        }
      ]
    },
    {
      "cell_type": "code",
      "source": [],
      "metadata": {
        "id": "8K6IuafFvnaA"
      },
      "execution_count": null,
      "outputs": []
    },
    {
      "cell_type": "code",
      "source": [
        "history_dict3 = history3.history\n",
        "loss_values = history_dict3[\"loss\"]\n",
        "val_loss_values = history_dict3[\"val_loss\"]\n",
        "epochs = range(1,len(val_loss_values)+1)\n",
        "\n",
        "line1 = plt.plot(epochs,val_loss_values,label=\"Validation/Test Loss\")\n",
        "line2 = plt.plot(epochs,loss_values,label=\"Train Loss\")\n",
        "plt.xlabel(\"Epochs\")\n",
        "plt.ylabel(\"Loss\")\n",
        "plt.grid(True)\n",
        "plt.legend()\n",
        "plt.show()"
      ],
      "metadata": {
        "colab": {
          "base_uri": "https://localhost:8080/",
          "height": 279
        },
        "id": "bAO92AQWvngu",
        "outputId": "9d055b51-1d8b-4cd7-a2a0-47c43447f4e4"
      },
      "execution_count": 42,
      "outputs": [
        {
          "output_type": "display_data",
          "data": {
            "text/plain": [
              "<Figure size 432x288 with 1 Axes>"
            ],
            "image/png": "[encoded data removed]"
          },
          "metadata": {
            "needs_background": "light"
          }
        }
      ]
    },
    {
      "cell_type": "code",
      "source": [
        "history_dict3 = history3.history\n",
        "acc_values = history_dict3[\"accuracy\"]\n",
        "val_acc_values = history_dict3[\"val_accuracy\"]\n",
        "epochs = range(1,len(val_acc_values)+1)\n",
        "line1 = plt.plot(epochs,val_acc_values,label=\"Validation/Test Acc\")\n",
        "line2 = plt.plot(epochs,acc_values,label=\"Train Acc\")\n",
        "plt.xlabel(\"Epochs\")\n",
        "plt.ylabel(\"Acc\")\n",
        "plt.grid(True)\n",
        "plt.legend()\n",
        "plt.show()\n"
      ],
      "metadata": {
        "colab": {
          "base_uri": "https://localhost:8080/",
          "height": 279
        },
        "id": "IDuz5VO7vngv",
        "outputId": "b516ddc3-fc97-4013-b082-2ce1537fff72"
      },
      "execution_count": 43,
      "outputs": [
        {
          "output_type": "display_data",
          "data": {
            "text/plain": [
              "<Figure size 432x288 with 1 Axes>"
            ],
            "image/png": "[encoded data removed]"
          },
          "metadata": {
            "needs_background": "light"
          }
        }
      ]
    },
    {
      "cell_type": "code",
      "source": [],
      "metadata": {
        "id": "cVeQLT9yvn7w"
      },
      "execution_count": null,
      "outputs": []
    },
    {
      "cell_type": "code",
      "source": [
        "history_dict4 = history4.history\n",
        "loss_values = history_dict4[\"loss\"]\n",
        "val_loss_values = history_dict4[\"val_loss\"]\n",
        "epochs = range(1,len(val_loss_values)+1)\n",
        "\n",
        "line1 = plt.plot(epochs,val_loss_values,label=\"Validation/Test Loss\")\n",
        "line2 = plt.plot(epochs,loss_values,label=\"Train Loss\")\n",
        "plt.xlabel(\"Epochs\")\n",
        "plt.ylabel(\"Loss\")\n",
        "plt.grid(True)\n",
        "plt.legend()\n",
        "plt.show()"
      ],
      "metadata": {
        "colab": {
          "base_uri": "https://localhost:8080/",
          "height": 279
        },
        "id": "_eEF2J_HvoCF",
        "outputId": "8fa9b99c-e6f0-4c7c-e897-8d977ac1e1df"
      },
      "execution_count": 44,
      "outputs": [
        {
          "output_type": "display_data",
          "data": {
            "text/plain": [
              "<Figure size 432x288 with 1 Axes>"
            ],
            "image/png": "[encoded data removed]"
          },
          "metadata": {
            "needs_background": "light"
          }
        }
      ]
    },
    {
      "cell_type": "code",
      "source": [
        "history_dict4 = history4.history\n",
        "acc_values = history_dict4[\"accuracy\"]\n",
        "val_acc_values = history_dict4[\"val_accuracy\"]\n",
        "epochs = range(1,len(val_acc_values)+1)\n",
        "line1 = plt.plot(epochs,val_acc_values,label=\"Validation/Test Acc\")\n",
        "line2 = plt.plot(epochs,acc_values,label=\"Train Acc\")\n",
        "plt.xlabel(\"Epochs\")\n",
        "plt.ylabel(\"Acc\")\n",
        "plt.grid(True)\n",
        "plt.legend()\n",
        "plt.show()\n"
      ],
      "metadata": {
        "colab": {
          "base_uri": "https://localhost:8080/",
          "height": 279
        },
        "id": "6J1rcvmOvoCH",
        "outputId": "cc526024-aa05-4e51-95e1-b1e8e2dfd71d"
      },
      "execution_count": 45,
      "outputs": [
        {
          "output_type": "display_data",
          "data": {
            "text/plain": [
              "<Figure size 432x288 with 1 Axes>"
            ],
            "image/png": "[encoded data removed]"
          },
          "metadata": {
            "needs_background": "light"
          }
        }
      ]
    },
    {
      "cell_type": "code",
      "source": [],
      "metadata": {
        "id": "iy7O4LAGvocK"
      },
      "execution_count": null,
      "outputs": []
    },
    {
      "cell_type": "code",
      "source": [
        "history_dict5 = history5.history\n",
        "loss_values = history_dict5[\"loss\"]\n",
        "val_loss_values = history_dict5[\"val_loss\"]\n",
        "epochs = range(1,len(val_loss_values)+1)\n",
        "\n",
        "line1 = plt.plot(epochs,val_loss_values,label=\"Validation/Test Loss\")\n",
        "line2 = plt.plot(epochs,loss_values,label=\"Train Loss\")\n",
        "plt.xlabel(\"Epochs\")\n",
        "plt.ylabel(\"Loss\")\n",
        "plt.grid(True)\n",
        "plt.legend()\n",
        "plt.show()"
      ],
      "metadata": {
        "colab": {
          "base_uri": "https://localhost:8080/",
          "height": 279
        },
        "id": "jYNjyNjhvohg",
        "outputId": "7c1c7197-a6fa-4d66-ccde-e1213e1e8602"
      },
      "execution_count": 46,
      "outputs": [
        {
          "output_type": "display_data",
          "data": {
            "text/plain": [
              "<Figure size 432x288 with 1 Axes>"
            ],
            "image/png": "[encoded data removed]"
          },
          "metadata": {
            "needs_background": "light"
          }
        }
      ]
    },
    {
      "cell_type": "code",
      "source": [
        "history_dict5 = history5.history\n",
        "acc_values = history_dict5[\"accuracy\"]\n",
        "val_acc_values = history_dict5[\"val_accuracy\"]\n",
        "epochs = range(1,len(val_acc_values)+1)\n",
        "line1 = plt.plot(epochs,val_acc_values,label=\"Validation/Test Acc\")\n",
        "line2 = plt.plot(epochs,acc_values,label=\"Train Acc\")\n",
        "plt.xlabel(\"Epochs\")\n",
        "plt.ylabel(\"Acc\")\n",
        "plt.grid(True)\n",
        "plt.legend()\n",
        "plt.show()\n"
      ],
      "metadata": {
        "colab": {
          "base_uri": "https://localhost:8080/",
          "height": 283
        },
        "id": "QVEU-oFXvohh",
        "outputId": "fece6576-fc16-4918-9e25-b4ecae3f360b"
      },
      "execution_count": 47,
      "outputs": [
        {
          "output_type": "display_data",
          "data": {
            "text/plain": [
              "<Figure size 432x288 with 1 Axes>"
            ],
            "image/png": "[encoded data removed]"
          },
          "metadata": {
            "needs_background": "light"
          }
        }
      ]
    },
    {
      "cell_type": "code",
      "source": [],
      "metadata": {
        "id": "Eet6fbekvply"
      },
      "execution_count": null,
      "outputs": []
    },
    {
      "cell_type": "code",
      "source": [
        "history_dict6 = history6.history\n",
        "loss_values = history_dict6[\"loss\"]\n",
        "val_loss_values = history_dict6[\"val_loss\"]\n",
        "epochs = range(1,len(val_loss_values)+1)\n",
        "\n",
        "line1 = plt.plot(epochs,val_loss_values,label=\"Validation/Test Loss\")\n",
        "line2 = plt.plot(epochs,loss_values,label=\"Train Loss\")\n",
        "plt.xlabel(\"Epochs\")\n",
        "plt.ylabel(\"Loss\")\n",
        "plt.grid(True)\n",
        "plt.legend()\n",
        "plt.show()"
      ],
      "metadata": {
        "colab": {
          "base_uri": "https://localhost:8080/",
          "height": 279
        },
        "id": "AyRswZxnvpvD",
        "outputId": "351c4999-ec1b-4335-df13-72d3bd40ccfe"
      },
      "execution_count": 48,
      "outputs": [
        {
          "output_type": "display_data",
          "data": {
            "text/plain": [
              "<Figure size 432x288 with 1 Axes>"
            ],
            "image/png": "[encoded data removed]"
          },
          "metadata": {
            "needs_background": "light"
          }
        }
      ]
    },
    {
      "cell_type": "code",
      "source": [
        "history_dict6 = history6.history\n",
        "acc_values = history_dict6[\"accuracy\"]\n",
        "val_acc_values = history_dict6[\"val_accuracy\"]\n",
        "epochs = range(1,len(val_acc_values)+1)\n",
        "line1 = plt.plot(epochs,val_acc_values,label=\"Validation/Test Acc\")\n",
        "line2 = plt.plot(epochs,acc_values,label=\"Train Acc\")\n",
        "plt.xlabel(\"Epochs\")\n",
        "plt.ylabel(\"Acc\")\n",
        "plt.grid(True)\n",
        "plt.legend()\n",
        "plt.show()\n"
      ],
      "metadata": {
        "colab": {
          "base_uri": "https://localhost:8080/",
          "height": 282
        },
        "id": "dKtQaV35vpvE",
        "outputId": "6791987a-d57d-40de-fceb-f97878cd22f8"
      },
      "execution_count": 49,
      "outputs": [
        {
          "output_type": "display_data",
          "data": {
            "text/plain": [
              "<Figure size 432x288 with 1 Axes>"
            ],
            "image/png": "[encoded data removed]"
          },
          "metadata": {
            "needs_background": "light"
          }
        }
      ]
    }
  ]
}