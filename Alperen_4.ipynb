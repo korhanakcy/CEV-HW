{
  "nbformat": 4,
  "nbformat_minor": 0,
  "metadata": {
    "colab": {
      "provenance": []
    },
    "kernelspec": {
      "name": "python3",
      "display_name": "Python 3"
    },
    "language_info": {
      "name": "python"
    }
  },
  "cells": [
    {
      "cell_type": "markdown",
      "source": [
        "100 katlı bina var 2 adet yumurta ile sadece tek sefer kullanmak şartı en az kaç defada yumurtanın kırılmadığı katı bulabiliriz?"
      ],
      "metadata": {
        "id": "Hj0JgzJhzYRo"
      }
    },
    {
      "cell_type": "code",
      "execution_count": 2,
      "metadata": {
        "colab": {
          "base_uri": "https://localhost:8080/"
        },
        "id": "2rqKyA7-yTYW",
        "outputId": "2ccfa541-dec4-4463-903e-e2f6c077caf2"
      },
      "outputs": [
        {
          "output_type": "stream",
          "name": "stdout",
          "text": [
            "14\n"
          ]
        }
      ],
      "source": [
        "import math\n",
        "x=1000000\n",
        "for i in range(2,100):\n",
        "  m=0\n",
        "  m+=(math.floor(100/i)+math.floor((i-1)/2)+math.floor((100%i)/2))\n",
        "  x=min(x,m)\n",
        "print(x)"
      ]
    },
    {
      "cell_type": "markdown",
      "source": [
        "**Görüntü işleme aşamlarını sırası ile tarif ediniz.**\n",
        "\n"
      ],
      "metadata": {
        "id": "qcwQbzYmzbIm"
      }
    },
    {
      "cell_type": "markdown",
      "source": [
        "Elde Etme: Sayısal görüntü sayısal kamera ile elde edilir.\n",
        "\n",
        "Ön İşleme: Sayısal görüntüyü kullanmadan önce bazı ön işlemlerden geçirmek gerekir. Bunlar; görüntü iyileştirme, görüntü onarma, görüntü sıkıştırma işlemleridir. Görüntünün elde edilmesi ve ön işleme tabi tutulması düşük seviyeli görüntü işleme olarak adlandırılır.\n",
        "\n",
        "Bölümleme: Bu işlemin alt başlıkları; bölütleme, parçalara ayırma, segmentasyon olarak adlandırılır. Bu kısım görüntü işlemenin daha zor kısmıdır. Bu kısımda amaç görüntü içerisindeki nesne ve alanların değişik özelliklerinin tespit edilip birbirinden ayrılmasıdır.\n",
        "\n",
        "Çıkarım: Elde edilen ham bilgilerin, istenilen farklı özelliklerin, ayrıntıların ön plana çıkarılmasıdır.\n",
        "\n",
        "Yorumlama: Bu son kısımda artık bazı yapay zeka algoritmaları ile işlenen görüntü içerisindeki farklı nesnelerin ve alanların sınıflara ayrılması ve etiketlendirilmesi yapılır.\n",
        "\n"
      ],
      "metadata": {
        "id": "0eO-Xjpx_bgE"
      }
    },
    {
      "cell_type": "markdown",
      "source": [
        "**Feature map veya bir sonraki layerın boyutlarını belirleyen özellikler nelerdir. Açıklayınız.**"
      ],
      "metadata": {
        "id": "vaCEku78zcrI"
      }
    },
    {
      "cell_type": "markdown",
      "source": [
        "Feature Mapin ve Sonraki Layer'ın boyutlarını İnputun boyutlarıyla birlikte Kernel'ın/filtrenin boyutları,Pooling ve/veya Padding yapılması, Stride(adım boyu)/Filtrenin hareket boyu ve dept yani uygulanan filtrenin sayısı sonunda çıkıcak olan Feature Mapin ve sonraki Layerin boyutunu belirleyecektir.\n",
        "\n",
        "Kernel'in boyutları inputun üzerinden geçerken tarama alaının belirleyerek ne kadar büyürse sonunda çıkacak Feature Matrisin boyutlarını küçültecektir.\n",
        "\n",
        "Pooling yapılması matrisin boyutunu küçülteceğinden Feature Mapin ve Layerin Boyutunu etkileyecektir.\n",
        "\n",
        "Padding ise Kernelın üzerinde hareket edilecek alanı arttıracağından ve bu arttırılmış alanı 0'lar ile oluşturacağından üzerinden geçilen veri miktarını azaltarak filtering sonucu oluşacak Feature Matrisin boyutunun daha az küçülmesine ve hatta aynı kalmasına vesile olacaktır.\n",
        "\n",
        "Stride ise Kernelın Input/üzerinde filtering uygulanan matris üzerinde hareket adımı olduğundan arttıkça oluşacak feature matrisin boyutu küçülecektir.\n",
        "\n",
        "Depth uygulanacak filtre sayısı ise toplamda nxn boyutunda oluşacak feature matris sayısını arttıracaktır.\n"
      ],
      "metadata": {
        "id": "dqRSGUBU_ld0"
      }
    },
    {
      "cell_type": "markdown",
      "source": [
        "**Softmax nedir? Ne işe yarar?**"
      ],
      "metadata": {
        "id": "zqFDus49zfgl"
      }
    },
    {
      "cell_type": "markdown",
      "source": [
        "`Softmax Fonksiyonu: Çoklu sınıflandırma problemleri için kullanılan bu fonksiyon, verilen her bir girdinin bir sınıfa ait olma olasılığını gösteren [0,1] arası çıktılar üretmektedir.`"
      ],
      "metadata": {
        "id": "tx1g9o-t2oo1"
      }
    },
    {
      "cell_type": "markdown",
      "source": [
        "**Aktivasyon fonskiyonlarının kullanım amaçları nedir? 3 adet örnek veriniz. Amaçlarını açıklayınız. Şekillerini çiziniz.**"
      ],
      "metadata": {
        "id": "6ua9w6LlzhmG"
      }
    },
    {
      "cell_type": "markdown",
      "source": [
        "Aktivasyon fonksiyonları sinir ağlarında kilit bir rol oynar, bu nedenle daha iyi performans elde etmek için avantajlarını ve dezavantajlarını anlamak esastır. Yapay sinir ağlarına doğrusal olmayan gerçek dünya özelliklerini tanıtmak için aktivasyon fonksiyonuna ihtiyaç duyarız. Temel olarak basit bir yapay sinir ağında **x** girdiler,** w** ağırlıklar olarak tanımlanır ve ağın çıkışına aktarılan değere f(x) yani aktivasyon işlemi uygularız. Daha sonra bu, nihai çıkış ya da bir başka katmanın girişi olacaktır.\n",
        "\n",
        "- ReLU (Rectified Linear Unit) Fonksiyonu\n",
        "- Doğrusal (Linear) Fonksiyon\n",
        "- Sigmoid Fonksiyonu\n",
        "\n",
        "\n",
        "\n"
      ],
      "metadata": {
        "id": "BnDvpjKu224h"
      }
    },
    {
      "cell_type": "code",
      "source": [
        "import numpy as np\n",
        "import matplotlib.pyplot as plt\n",
        "\n",
        "# Rectified Linear Unit (ReLU)\n",
        "def ReLU(x):\n",
        "  data = [max(0,value) for value in x]\n",
        "  return np.array(data, dtype=float)\n",
        "\n",
        "# Generating data for Graph\n",
        "x_data = np.linspace(-10,10,100)\n",
        "y_data = ReLU(x_data)\n",
        "\n",
        "# Graph\n",
        "plt.plot(x_data, y_data)\n",
        "plt.title('ReLU Activation Function')\n",
        "plt.legend(['ReLU'])\n",
        "plt.grid()\n",
        "plt.show()"
      ],
      "metadata": {
        "colab": {
          "base_uri": "https://localhost:8080/",
          "height": 281
        },
        "id": "nFouuGHezj2r",
        "outputId": "50c46fa4-a77b-4193-d090-fc4ba5dbd422"
      },
      "execution_count": 4,
      "outputs": [
        {
          "output_type": "display_data",
          "data": {
            "text/plain": [
              "<Figure size 432x288 with 1 Axes>"
            ],
            "image/png": "[encoded data removed]"
          },
          "metadata": {
            "needs_background": "light"
          }
        }
      ]
    },
    {
      "cell_type": "code",
      "source": [
        "import math\n",
        "#y = 1/(1+math.exp(x)) \n",
        "def sigmoid(x):     \n",
        "  a = []     \n",
        "  for i in x:         \n",
        "    a.append(1/(1+math.exp(-i)))     \n",
        "    return a  \n",
        "\n",
        "x = np.arange(0.01,1,100)\n",
        "y = sigmoid(x) \n",
        "\n",
        "plt.plot(x,y)\n",
        "plt.title(\"Sigmoid Function\")\n",
        "plt.grid()\n",
        "plt.show()"
      ],
      "metadata": {
        "colab": {
          "base_uri": "https://localhost:8080/",
          "height": 281
        },
        "id": "o4qErdkz39W6",
        "outputId": "ad5f8774-3a24-4751-eea3-9cf2cf83b5ea"
      },
      "execution_count": 33,
      "outputs": [
        {
          "output_type": "display_data",
          "data": {
            "text/plain": [
              "<Figure size 432x288 with 1 Axes>"
            ],
            "image/png": "[encoded data removed]"
          },
          "metadata": {
            "needs_background": "light"
          }
        }
      ]
    },
    {
      "cell_type": "markdown",
      "source": [
        "32,32 lik image olduğunu düşünelim 2,2 like Max pooling sonucunda çıktı hangi boyutta olur?\n"
      ],
      "metadata": {
        "id": "4oJOqDmgzkMT"
      }
    },
    {
      "cell_type": "code",
      "source": [
        "((32-2)/1)+1"
      ],
      "metadata": {
        "colab": {
          "base_uri": "https://localhost:8080/"
        },
        "id": "tNHLWQEczmLw",
        "outputId": "33174421-1e3a-44a7-d73f-5c6f9be4eb67"
      },
      "execution_count": 34,
      "outputs": [
        {
          "output_type": "execute_result",
          "data": {
            "text/plain": [
              "31.0"
            ]
          },
          "metadata": {},
          "execution_count": 34
        }
      ]
    },
    {
      "cell_type": "markdown",
      "source": [
        "**Droupout'un amacı nedir?**"
      ],
      "metadata": {
        "id": "mtb8EWiCzmou"
      }
    },
    {
      "cell_type": "markdown",
      "source": [
        "\n",
        "Dropout tekniği genelde tam bağlı katmanlarda (fully-connected layer) sonra kullanılır. Dropout kullanılarak fully-connected layerlardaki bağlar koparılır. Böylece node'lar birbiri hakkında daha az bilgiye sahip olur ve bunun doğal sonucu olarak node'lar birbirlerinin ağırlık değişimlerinden daha az etkilenirler.\n"
      ],
      "metadata": {
        "id": "TEsumKkw-T79"
      }
    },
    {
      "cell_type": "markdown",
      "source": [
        "**Görüntü işleme yöntemleri için kullanılan 3 adet framework belirtiniz.**"
      ],
      "metadata": {
        "id": "cLbfUotszp_E"
      }
    },
    {
      "cell_type": "markdown",
      "source": [
        "    OpenCV,EmguCV,Tensorflow"
      ],
      "metadata": {
        "id": "LEDaGveK-iny"
      }
    },
    {
      "cell_type": "markdown",
      "source": [
        "**Niçin imajlar için ANN yerine CNN kullanıyoruz?**"
      ],
      "metadata": {
        "id": "CfEM_26jzsLV"
      }
    },
    {
      "cell_type": "markdown",
      "source": [
        "\n",
        "ANN ile somut veri noktaları sağlanmalıdır. Örneğin, köpekler ve kediler arasında ayrım yapmaya çalıştığımız bir modelde, burunların genişliği ve kulakların uzunluğu açıkça veri noktaları olarak sağlanmalıdır. CNN kullanırken, bu uzamsal özellikler görüntü girişinden çıkarılır. Bu, binlerce özelliğin çıkarılması gerektiğinde cnn'yi ideal kılar. CNN, her bir özelliği ölçmek zorunda kalmak yerine, bu özellikleri kendi başına toplar. ANN kullanarak, görüntü sınıflandırma problemleri zorlaşır çünkü 2 boyutlu görüntülerin 1 boyutlu vektörlere dönüştürülmesi gerekir. Bu, eğitilebilir parametrelerin sayısını katlanarak artırır. Eğitilebilir parametrelerin arttırılması, depolama ve işleme kapasitesini gerektirir. Başka bir deyişle, pahalı olurdu. Öncekilere kıyasla cnn'in en büyük avantajı, önemli özellikleri herhangi bir insan gözetimi olmadan otomatik olarak algılamasıdır. Bu nedenle CNN, bilgisayarla görme ve görüntü sınıflandırma sorunlarına ideal bir çözüm olacaktır.\n",
        "\n"
      ],
      "metadata": {
        "id": "Uu69FsLr-omQ"
      }
    },
    {
      "cell_type": "markdown",
      "source": [
        "**CNN ağları için dimension reduction mümkünmüdür? Mümkünse nasıl ve hangi katmanlarda uygulanabilir?**\n"
      ],
      "metadata": {
        "id": "GcHTPJruzvYD"
      }
    },
    {
      "cell_type": "markdown",
      "source": [
        "Mümkündür. Pooling Layer, CovNet’teki ardışık convolutional katmanları arasına sıklıkla eklenen bir katmandır. Bu katmanın görevi, gösterimin kayma boyutunu ve ağ içindeki parametreleri ve hesaplama sayısını azaltmak içindir. Bu sayede ağdaki uyumsuzluk kontrol edilmiş olur. Birçok Pooling işlemleri vardır, fakat en popüleri max pooling’dir. Yine aynı prensipte çalışan average pooling, ve L2-norm pooling algoritmalarıda vardır.\n"
      ],
      "metadata": {
        "id": "2_W6nhlF-rdi"
      }
    },
    {
      "cell_type": "markdown",
      "source": [
        "**5,5 bir imaja 3,3 lük bir filtre uygulandığında stride=1 olacak şekilde o-elde edilen outputun boyutunun 5,5 olması niçin ne yapabiliriz?**"
      ],
      "metadata": {
        "id": "W9crGAt0zwfF"
      }
    },
    {
      "cell_type": "markdown",
      "source": [
        "`(((5-3)+2*X)/1)+1=5 olması için X'in yani Padding katmanının X=1 kalınlığında olması gerekir.`"
      ],
      "metadata": {
        "id": "7Zq23JWC_O8e"
      }
    }
  ]
}