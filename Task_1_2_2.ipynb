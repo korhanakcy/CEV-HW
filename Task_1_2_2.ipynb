{
  "nbformat": 4,
  "nbformat_minor": 0,
  "metadata": {
    "colab": {
      "provenance": [],
      "collapsed_sections": []
    },
    "kernelspec": {
      "name": "python3",
      "display_name": "Python 3"
    },
    "language_info": {
      "name": "python"
    }
  },
  "cells": [
    {
      "cell_type": "markdown",
      "source": [
        "Task 1.2.2: First 100 prime numbers: use for instead of while."
      ],
      "metadata": {
        "id": "meRES6V6N4dw"
      }
    },
    {
      "cell_type": "code",
      "source": [
        "def is_prime (num):\n",
        "  if (num<2):\n",
        "    return 'Invalid Input, Try another number!'\n",
        "  elif (num==2):\n",
        "    return True\n",
        "  elif(num%2 == 0):\n",
        "    return False\n",
        "  i = 3\n",
        "  while i < int(num/2):\n",
        "    #print(i)\n",
        "    if (num%i == 0):\n",
        "      return False\n",
        "    else:\n",
        "      i = i + 2\n",
        "  return True"
      ],
      "metadata": {
        "id": "eZz1fSwbHzTT"
      },
      "execution_count": null,
      "outputs": []
    },
    {
      "cell_type": "code",
      "source": [
        "i=0 \n",
        "while i < 100:\n",
        "  if is_prime(i) == True:\n",
        "    print(i)\n",
        "  i=i+1"
      ],
      "metadata": {
        "colab": {
          "base_uri": "https://localhost:8080/"
        },
        "id": "U5MwqrLsNJDM",
        "outputId": "2188d954-2201-43ea-a7de-0971ee487236"
      },
      "execution_count": 63,
      "outputs": [
        {
          "output_type": "stream",
          "name": "stdout",
          "text": [
            "2\n",
            "3\n",
            "5\n",
            "7\n",
            "11\n",
            "13\n",
            "17\n",
            "19\n",
            "23\n",
            "29\n",
            "31\n",
            "37\n",
            "41\n",
            "43\n",
            "47\n",
            "53\n",
            "59\n",
            "61\n",
            "67\n",
            "71\n",
            "73\n",
            "79\n",
            "83\n",
            "89\n",
            "97\n"
          ]
        }
      ]
    }
  ]
}