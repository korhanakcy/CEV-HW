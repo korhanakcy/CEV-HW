{
  "nbformat": 4,
  "nbformat_minor": 0,
  "metadata": {
    "colab": {
      "provenance": [],
      "collapsed_sections": []
    },
    "kernelspec": {
      "name": "python3",
      "display_name": "Python 3"
    },
    "language_info": {
      "name": "python"
    }
  },
  "cells": [
    {
      "cell_type": "markdown",
      "source": [
        "Task W1-3B En yüksek ve en düşük boylara sahip başkanların isimlerini ve sıra numaralarını bulunması."
      ],
      "metadata": {
        "id": "meRES6V6N4dw"
      }
    },
    {
      "cell_type": "code",
      "execution_count": null,
      "metadata": {
        "colab": {
          "base_uri": "https://localhost:8080/"
        },
        "id": "mkcTXIRC26_v",
        "outputId": "55864a9e-c759-4bd8-8699-4be508cfd0c4"
      },
      "outputs": [
        {
          "output_type": "stream",
          "name": "stdout",
          "text": [
            "[189 170 189 163 183 171 185 168 173 183 173 173 175 178 183 193 178 173\n",
            " 174 183 183 168 170 178 182 180 183 178 182 188 175 179 183 193 182 183\n",
            " 177 185 188 188 182 185]\n"
          ]
        }
      ],
      "source": [
        "import pandas as pd\n",
        "import numpy as np\n",
        "data = pd.read_csv('president_heights.csv')\n",
        "heights = np.array(data['height(cm)'])\n",
        "print(heights)"
      ]
    },
    {
      "cell_type": "code",
      "source": [
        "print(\"En uzun Amerikan başkanı\", data['name'][heights.argmax()], \"Amerikanın\" ,heights.argmax(), \". başkanıdır,\", heights.max(), \"cmdir.\" )\n",
        "print(\"En kısa Amerikan başkanı\", data['name'][heights.argmin()], \"Amerikanın\" ,heights.argmin(), \". başkanıdır,\", heights.min(), \"cmdir.\" )"
      ],
      "metadata": {
        "colab": {
          "base_uri": "https://localhost:8080/"
        },
        "id": "1cX91P6PDaH8",
        "outputId": "3f083927-0203-4fc5-99af-dbf6e49896c0"
      },
      "execution_count": null,
      "outputs": [
        {
          "output_type": "stream",
          "name": "stdout",
          "text": [
            "En uzun Amerikan başkanı Abraham Lincoln Amerikanın 15 . başkanıdır, 193 cmdir.\n",
            "En kısa Amerikan başkanı James Madison Amerikanın 3 . başkanıdır, 163 cmdir.\n"
          ]
        }
      ]
    }
  ]
}